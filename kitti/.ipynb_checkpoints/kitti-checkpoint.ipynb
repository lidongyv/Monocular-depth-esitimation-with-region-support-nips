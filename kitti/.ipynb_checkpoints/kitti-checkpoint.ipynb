{
 "cells": [
  {
   "cell_type": "code",
   "execution_count": 1,
   "metadata": {},
   "outputs": [
    {
     "name": "stdout",
     "output_type": "stream",
     "text": [
      "0\n"
     ]
    }
   ],
   "source": [
    "run kitti.py"
   ]
  },
  {
   "cell_type": "code",
   "execution_count": 2,
   "metadata": {},
   "outputs": [
    {
     "data": {
      "text/plain": [
       "['2011_09_28_drive_0082_sync',\n",
       " '2011_09_28_drive_0204_sync',\n",
       " '2011_09_28_drive_0177_sync',\n",
       " '2011_09_26_drive_0059_sync',\n",
       " '2011_09_28_drive_0138_sync',\n",
       " '2011_09_28_drive_0161_sync',\n",
       " '2011_09_28_drive_0153_sync',\n",
       " '2011_09_28_drive_0002_sync',\n",
       " '2011_09_28_drive_0103_sync',\n",
       " '2011_09_26_drive_0039_sync',\n",
       " '2011_09_28_drive_0090_sync',\n",
       " '2011_09_28_drive_0047_sync',\n",
       " '2011_09_28_drive_0057_sync',\n",
       " '2011_09_26_drive_0017_sync',\n",
       " '2011_09_26_drive_0014_sync',\n",
       " '2011_09_26_drive_0051_sync',\n",
       " '2011_09_28_drive_0001_sync',\n",
       " '2011_09_26_drive_0056_sync',\n",
       " '2011_09_26_drive_0048_sync',\n",
       " '2011_09_28_drive_0077_sync',\n",
       " '2011_09_28_drive_0156_sync',\n",
       " '2011_09_28_drive_0171_sync',\n",
       " '2011_09_28_drive_0126_sync',\n",
       " '2011_09_28_drive_0080_sync',\n",
       " '2011_09_28_drive_0174_sync',\n",
       " '2011_09_28_drive_0168_sync',\n",
       " '2011_09_28_drive_0016_sync',\n",
       " '2011_09_28_drive_0095_sync',\n",
       " '2011_09_26_drive_0018_sync',\n",
       " '2011_09_28_drive_0154_sync',\n",
       " '2011_09_28_drive_0108_sync',\n",
       " '2011_09_28_drive_0094_sync',\n",
       " '2011_09_28_drive_0071_sync',\n",
       " '2011_09_28_drive_0222_sync',\n",
       " '2011_09_26_drive_0057_sync',\n",
       " '2011_09_26_drive_0028_sync',\n",
       " '2011_09_26_drive_0022_sync',\n",
       " '2011_09_28_drive_0045_sync',\n",
       " '2011_09_28_drive_0166_sync',\n",
       " '2011_09_26_drive_0086_sync',\n",
       " '2011_09_28_drive_0185_sync',\n",
       " '2011_09_28_drive_0113_sync',\n",
       " '2011_09_28_drive_0065_sync',\n",
       " '2011_09_26_drive_0064_sync',\n",
       " '2011_09_26_drive_0015_sync',\n",
       " '2011_09_28_drive_0100_sync',\n",
       " '2011_09_28_drive_0039_sync',\n",
       " '2011_09_28_drive_0198_sync',\n",
       " '2011_09_28_drive_0134_sync',\n",
       " '2011_09_28_drive_0038_sync',\n",
       " '2011_09_28_drive_0209_sync',\n",
       " '2011_09_30_drive_0020_sync',\n",
       " '2011_09_28_drive_0220_sync',\n",
       " '2011_09_28_drive_0096_sync',\n",
       " '2011_09_28_drive_0179_sync',\n",
       " '2011_09_28_drive_0119_sync',\n",
       " '2011_09_30_drive_0028_sync',\n",
       " '2011_09_28_drive_0136_sync',\n",
       " '2011_09_28_drive_0128_sync',\n",
       " '2011_09_26_drive_0001_sync',\n",
       " '2011_09_28_drive_0086_sync',\n",
       " '2011_09_28_drive_0143_sync',\n",
       " '2011_09_28_drive_0155_sync',\n",
       " '2011_09_28_drive_0089_sync',\n",
       " '2011_09_30_drive_0027_sync',\n",
       " '2011_09_29_drive_0004_sync',\n",
       " '2011_09_26_drive_0061_sync',\n",
       " '2011_09_28_drive_0186_sync',\n",
       " '2011_09_26_drive_0019_sync',\n",
       " '2011_09_28_drive_0135_sync',\n",
       " '2011_09_28_drive_0162_sync',\n",
       " '2011_09_30_drive_0018_sync',\n",
       " '2011_09_28_drive_0054_sync',\n",
       " '2011_09_28_drive_0146_sync',\n",
       " '2011_09_28_drive_0106_sync',\n",
       " '2011_09_28_drive_0068_sync',\n",
       " '2011_09_28_drive_0132_sync',\n",
       " '2011_10_03_drive_0042_sync',\n",
       " '2011_09_26_drive_0096_sync',\n",
       " '2011_09_28_drive_0117_sync',\n",
       " '2011_09_26_drive_0032_sync',\n",
       " '2011_09_26_drive_0009_sync',\n",
       " '2011_09_26_drive_0093_sync',\n",
       " '2011_09_28_drive_0145_sync',\n",
       " '2011_09_28_drive_0034_sync',\n",
       " '2011_09_26_drive_0091_sync',\n",
       " '2011_09_28_drive_0192_sync',\n",
       " '2011_09_28_drive_0070_sync',\n",
       " '2011_09_26_drive_0070_sync',\n",
       " '2011_09_28_drive_0043_sync',\n",
       " '2011_09_28_drive_0075_sync',\n",
       " '2011_09_28_drive_0195_sync',\n",
       " '2011_09_28_drive_0021_sync',\n",
       " '2011_09_28_drive_0125_sync',\n",
       " '2011_09_28_drive_0121_sync',\n",
       " '2011_09_28_drive_0167_sync',\n",
       " '2011_09_28_drive_0102_sync',\n",
       " '2011_09_28_drive_0184_sync',\n",
       " '2011_09_26_drive_0046_sync',\n",
       " '2011_09_28_drive_0199_sync',\n",
       " '2011_09_26_drive_0101_sync',\n",
       " '2011_09_26_drive_0029_sync',\n",
       " '2011_09_26_drive_0011_sync',\n",
       " '2011_09_28_drive_0053_sync',\n",
       " '2011_09_28_drive_0160_sync',\n",
       " '2011_09_28_drive_0122_sync',\n",
       " '2011_09_28_drive_0205_sync',\n",
       " '2011_09_26_drive_0087_sync',\n",
       " '2011_09_28_drive_0098_sync',\n",
       " '2011_09_26_drive_0060_sync',\n",
       " '2011_09_28_drive_0066_sync',\n",
       " '2011_09_28_drive_0191_sync',\n",
       " '2011_09_28_drive_0165_sync',\n",
       " '2011_09_28_drive_0216_sync',\n",
       " '2011_09_29_drive_0071_sync',\n",
       " '2011_09_26_drive_0104_sync',\n",
       " '2011_09_26_drive_0052_sync',\n",
       " '2011_09_28_drive_0104_sync',\n",
       " '2011_09_28_drive_0087_sync',\n",
       " '2011_10_03_drive_0034_sync',\n",
       " '2011_09_28_drive_0183_sync',\n",
       " '2011_09_28_drive_0149_sync',\n",
       " '2011_09_28_drive_0187_sync',\n",
       " '2011_09_28_drive_0110_sync',\n",
       " '2011_09_26_drive_0117_sync',\n",
       " '2011_09_28_drive_0208_sync',\n",
       " '2011_09_28_drive_0214_sync',\n",
       " '2011_09_30_drive_0034_sync',\n",
       " '2011_10_03_drive_0027_sync',\n",
       " '2011_09_28_drive_0035_sync',\n",
       " '2011_09_30_drive_0033_sync',\n",
       " '2011_09_26_drive_0027_sync',\n",
       " '2011_09_28_drive_0141_sync',\n",
       " '2011_09_26_drive_0084_sync',\n",
       " '2011_09_28_drive_0078_sync',\n",
       " '2011_09_26_drive_0035_sync',\n",
       " '2011_09_26_drive_0106_sync',\n",
       " '2011_09_28_drive_0201_sync']"
      ]
     },
     "execution_count": 2,
     "metadata": {},
     "output_type": "execute_result"
    }
   ],
   "source": [
    "days"
   ]
  },
  {
   "cell_type": "code",
   "execution_count": 22,
   "metadata": {},
   "outputs": [],
   "source": [
    "import torchvision.transforms as transforms\n",
    "from PIL import Image\n",
    "import numpy as np\n",
    "import torch"
   ]
  },
  {
   "cell_type": "code",
   "execution_count": 77,
   "metadata": {},
   "outputs": [],
   "source": [
    "a=np.load('/home/lidong/Documents/datasets/nyu/test_split.npy')"
   ]
  },
  {
   "cell_type": "code",
   "execution_count": 78,
   "metadata": {},
   "outputs": [],
   "source": [
    "b=np.load('/home/lidong/Documents/datasets/nyu/train_split.npy')"
   ]
  },
  {
   "cell_type": "code",
   "execution_count": 72,
   "metadata": {},
   "outputs": [
    {
     "data": {
      "text/plain": [
       "480"
      ]
     },
     "execution_count": 72,
     "metadata": {},
     "output_type": "execute_result"
    }
   ],
   "source": [
    "len(a)"
   ]
  },
  {
   "cell_type": "code",
   "execution_count": 82,
   "metadata": {},
   "outputs": [
    {
     "data": {
      "text/plain": [
       "(480, 640, 4, 1165)"
      ]
     },
     "execution_count": 82,
     "metadata": {},
     "output_type": "execute_result"
    }
   ],
   "source": [
    "b.shape"
   ]
  },
  {
   "cell_type": "code",
   "execution_count": 81,
   "metadata": {},
   "outputs": [
    {
     "data": {
      "text/plain": [
       "(480, 640, 4, 1119)"
      ]
     },
     "execution_count": 81,
     "metadata": {},
     "output_type": "execute_result"
    }
   ],
   "source": [
    "a.shape"
   ]
  },
  {
   "cell_type": "code",
   "execution_count": 60,
   "metadata": {},
   "outputs": [
    {
     "ename": "AttributeError",
     "evalue": "attribute 'size' of 'numpy.ndarray' objects is not writable",
     "output_type": "error",
     "traceback": [
      "\u001b[0;31m---------------------------------------------------------------------------\u001b[0m",
      "\u001b[0;31mAttributeError\u001b[0m                            Traceback (most recent call last)",
      "\u001b[0;32m<ipython-input-60-7b136dd8eda8>\u001b[0m in \u001b[0;36m<module>\u001b[0;34m()\u001b[0m\n\u001b[1;32m      1\u001b[0m \u001b[0mimage\u001b[0m\u001b[0;34m=\u001b[0m\u001b[0mnp\u001b[0m\u001b[0;34m.\u001b[0m\u001b[0mrandom\u001b[0m\u001b[0;34m.\u001b[0m\u001b[0mrand\u001b[0m\u001b[0;34m(\u001b[0m\u001b[0;36m1000\u001b[0m\u001b[0;34m,\u001b[0m\u001b[0;36m1000\u001b[0m\u001b[0;34m,\u001b[0m\u001b[0;36m3\u001b[0m\u001b[0;34m)\u001b[0m\u001b[0;34m\u001b[0m\u001b[0m\n\u001b[0;32m----> 2\u001b[0;31m \u001b[0mimage\u001b[0m\u001b[0;34m.\u001b[0m\u001b[0msize\u001b[0m\u001b[0;34m=\u001b[0m\u001b[0;34m[\u001b[0m\u001b[0;36m1242\u001b[0m\u001b[0;34m,\u001b[0m\u001b[0;36m375\u001b[0m\u001b[0;34m]\u001b[0m\u001b[0;34m\u001b[0m\u001b[0m\n\u001b[0m",
      "\u001b[0;31mAttributeError\u001b[0m: attribute 'size' of 'numpy.ndarray' objects is not writable"
     ]
    }
   ],
   "source": [
    "image=np.random.rand(1000,1000,3)\n",
    "image.size=[1242,375]"
   ]
  },
  {
   "cell_type": "code",
   "execution_count": 52,
   "metadata": {},
   "outputs": [
    {
     "ename": "TypeError",
     "evalue": "'int' object is not iterable",
     "output_type": "error",
     "traceback": [
      "\u001b[0;31m---------------------------------------------------------------------------\u001b[0m",
      "\u001b[0;31mTypeError\u001b[0m                                 Traceback (most recent call last)",
      "\u001b[0;32m<ipython-input-52-0f01c44b6e0a>\u001b[0m in \u001b[0;36m<module>\u001b[0;34m()\u001b[0m\n\u001b[0;32m----> 1\u001b[0;31m \u001b[0mcrop\u001b[0m\u001b[0;34m(\u001b[0m\u001b[0mimage\u001b[0m\u001b[0;34m)\u001b[0m\u001b[0;34m\u001b[0m\u001b[0m\n\u001b[0m",
      "\u001b[0;32m~/anaconda3/lib/python3.6/site-packages/torchvision/transforms/transforms.py\u001b[0m in \u001b[0;36m__call__\u001b[0;34m(self, img)\u001b[0m\n\u001b[1;32m    419\u001b[0m             \u001b[0mimg\u001b[0m \u001b[0;34m=\u001b[0m \u001b[0mF\u001b[0m\u001b[0;34m.\u001b[0m\u001b[0mpad\u001b[0m\u001b[0;34m(\u001b[0m\u001b[0mimg\u001b[0m\u001b[0;34m,\u001b[0m \u001b[0;34m(\u001b[0m\u001b[0;36m0\u001b[0m\u001b[0;34m,\u001b[0m \u001b[0mint\u001b[0m\u001b[0;34m(\u001b[0m\u001b[0;34m(\u001b[0m\u001b[0;36m1\u001b[0m \u001b[0;34m+\u001b[0m \u001b[0mself\u001b[0m\u001b[0;34m.\u001b[0m\u001b[0msize\u001b[0m\u001b[0;34m[\u001b[0m\u001b[0;36m0\u001b[0m\u001b[0;34m]\u001b[0m \u001b[0;34m-\u001b[0m \u001b[0mimg\u001b[0m\u001b[0;34m.\u001b[0m\u001b[0msize\u001b[0m\u001b[0;34m[\u001b[0m\u001b[0;36m1\u001b[0m\u001b[0;34m]\u001b[0m\u001b[0;34m)\u001b[0m \u001b[0;34m/\u001b[0m \u001b[0;36m2\u001b[0m\u001b[0;34m)\u001b[0m\u001b[0;34m)\u001b[0m\u001b[0;34m)\u001b[0m\u001b[0;34m\u001b[0m\u001b[0m\n\u001b[1;32m    420\u001b[0m \u001b[0;34m\u001b[0m\u001b[0m\n\u001b[0;32m--> 421\u001b[0;31m         \u001b[0mi\u001b[0m\u001b[0;34m,\u001b[0m \u001b[0mj\u001b[0m\u001b[0;34m,\u001b[0m \u001b[0mh\u001b[0m\u001b[0;34m,\u001b[0m \u001b[0mw\u001b[0m \u001b[0;34m=\u001b[0m \u001b[0mself\u001b[0m\u001b[0;34m.\u001b[0m\u001b[0mget_params\u001b[0m\u001b[0;34m(\u001b[0m\u001b[0mimg\u001b[0m\u001b[0;34m,\u001b[0m \u001b[0mself\u001b[0m\u001b[0;34m.\u001b[0m\u001b[0msize\u001b[0m\u001b[0;34m)\u001b[0m\u001b[0;34m\u001b[0m\u001b[0m\n\u001b[0m\u001b[1;32m    422\u001b[0m \u001b[0;34m\u001b[0m\u001b[0m\n\u001b[1;32m    423\u001b[0m         \u001b[0;32mreturn\u001b[0m \u001b[0mF\u001b[0m\u001b[0;34m.\u001b[0m\u001b[0mcrop\u001b[0m\u001b[0;34m(\u001b[0m\u001b[0mimg\u001b[0m\u001b[0;34m,\u001b[0m \u001b[0mi\u001b[0m\u001b[0;34m,\u001b[0m \u001b[0mj\u001b[0m\u001b[0;34m,\u001b[0m \u001b[0mh\u001b[0m\u001b[0;34m,\u001b[0m \u001b[0mw\u001b[0m\u001b[0;34m)\u001b[0m\u001b[0;34m\u001b[0m\u001b[0m\n",
      "\u001b[0;32m~/anaconda3/lib/python3.6/site-packages/torchvision/transforms/transforms.py\u001b[0m in \u001b[0;36mget_params\u001b[0;34m(img, output_size)\u001b[0m\n\u001b[1;32m    392\u001b[0m             \u001b[0mtuple\u001b[0m\u001b[0;34m:\u001b[0m \u001b[0mparams\u001b[0m \u001b[0;34m(\u001b[0m\u001b[0mi\u001b[0m\u001b[0;34m,\u001b[0m \u001b[0mj\u001b[0m\u001b[0;34m,\u001b[0m \u001b[0mh\u001b[0m\u001b[0;34m,\u001b[0m \u001b[0mw\u001b[0m\u001b[0;34m)\u001b[0m \u001b[0mto\u001b[0m \u001b[0mbe\u001b[0m \u001b[0mpassed\u001b[0m \u001b[0mto\u001b[0m\u001b[0;31m \u001b[0m\u001b[0;31m`\u001b[0m\u001b[0;31m`\u001b[0m\u001b[0mcrop\u001b[0m\u001b[0;31m`\u001b[0m\u001b[0;31m`\u001b[0m \u001b[0;32mfor\u001b[0m \u001b[0mrandom\u001b[0m \u001b[0mcrop\u001b[0m\u001b[0;34m.\u001b[0m\u001b[0;34m\u001b[0m\u001b[0m\n\u001b[1;32m    393\u001b[0m         \"\"\"\n\u001b[0;32m--> 394\u001b[0;31m         \u001b[0mw\u001b[0m\u001b[0;34m,\u001b[0m \u001b[0mh\u001b[0m \u001b[0;34m=\u001b[0m \u001b[0mimg\u001b[0m\u001b[0;34m.\u001b[0m\u001b[0msize\u001b[0m\u001b[0;34m\u001b[0m\u001b[0m\n\u001b[0m\u001b[1;32m    395\u001b[0m         \u001b[0mth\u001b[0m\u001b[0;34m,\u001b[0m \u001b[0mtw\u001b[0m \u001b[0;34m=\u001b[0m \u001b[0moutput_size\u001b[0m\u001b[0;34m\u001b[0m\u001b[0m\n\u001b[1;32m    396\u001b[0m         \u001b[0;32mif\u001b[0m \u001b[0mw\u001b[0m \u001b[0;34m==\u001b[0m \u001b[0mtw\u001b[0m \u001b[0;32mand\u001b[0m \u001b[0mh\u001b[0m \u001b[0;34m==\u001b[0m \u001b[0mth\u001b[0m\u001b[0;34m:\u001b[0m\u001b[0;34m\u001b[0m\u001b[0m\n",
      "\u001b[0;31mTypeError\u001b[0m: 'int' object is not iterable"
     ]
    }
   ],
   "source": [
    "crop(image)"
   ]
  },
  {
   "cell_type": "code",
   "execution_count": 72,
   "metadata": {},
   "outputs": [],
   "source": [
    "image[0,0]=image[0,0]+1"
   ]
  },
  {
   "cell_type": "code",
   "execution_count": 73,
   "metadata": {
    "scrolled": true
   },
   "outputs": [
    {
     "data": {
      "text/plain": [
       "2.0"
      ]
     },
     "execution_count": 73,
     "metadata": {},
     "output_type": "execute_result"
    }
   ],
   "source": [
    "im[0,0]"
   ]
  },
  {
   "cell_type": "code",
   "execution_count": 69,
   "metadata": {},
   "outputs": [],
   "source": [
    "im[0,0]=im[0,0]+1"
   ]
  },
  {
   "cell_type": "code",
   "execution_count": 18,
   "metadata": {},
   "outputs": [],
   "source": [
    "from rsden.models import get_model"
   ]
  },
  {
   "cell_type": "code",
   "execution_count": 19,
   "metadata": {},
   "outputs": [
    {
     "name": "stdout",
     "output_type": "stream",
     "text": [
      "/home/lidong/Documents/RSDEN/RSDEN/kitti\n"
     ]
    }
   ],
   "source": [
    "cd kitti/"
   ]
  },
  {
   "cell_type": "code",
   "execution_count": 20,
   "metadata": {},
   "outputs": [],
   "source": [
    "from rsden.models import get_model"
   ]
  },
  {
   "cell_type": "code",
   "execution_count": 21,
   "metadata": {},
   "outputs": [],
   "source": [
    "from rsden.loss import *"
   ]
  },
  {
   "cell_type": "code",
   "execution_count": 22,
   "metadata": {},
   "outputs": [
    {
     "name": "stdout",
     "output_type": "stream",
     "text": [
      "kitti.ipynb   nyu2_data.py  train_all.py   train_rsdin.py\r\n",
      "kitti.py      region.py     \u001b[0m\u001b[01;32mtrain_drn.py\u001b[0m*  \u001b[01;32mtrain_rsn.py\u001b[0m*\r\n",
      "nyu1_data.py  test_drn.py   train.py\r\n"
     ]
    }
   ],
   "source": [
    "ls"
   ]
  },
  {
   "cell_type": "code",
   "execution_count": 25,
   "metadata": {},
   "outputs": [],
   "source": [
    "from rsden.loader import get_loader, get_data_path"
   ]
  },
  {
   "cell_type": "code",
   "execution_count": null,
   "metadata": {},
   "outputs": [],
   "source": []
  }
 ],
 "metadata": {
  "kernelspec": {
   "display_name": "Python 3",
   "language": "python",
   "name": "python3"
  },
  "language_info": {
   "codemirror_mode": {
    "name": "ipython",
    "version": 3
   },
   "file_extension": ".py",
   "mimetype": "text/x-python",
   "name": "python",
   "nbconvert_exporter": "python",
   "pygments_lexer": "ipython3",
   "version": "3.6.4"
  }
 },
 "nbformat": 4,
 "nbformat_minor": 2
}
