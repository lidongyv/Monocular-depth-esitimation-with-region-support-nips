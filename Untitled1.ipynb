{
 "cells": [
  {
   "cell_type": "code",
   "execution_count": null,
   "metadata": {},
   "outputs": [],
   "source": []
  },
  {
   "cell_type": "code",
   "execution_count": 1,
   "metadata": {},
   "outputs": [
    {
     "ename": "FileNotFoundError",
     "evalue": "[Errno 2] No such file or directory: '/proj_depth/groundtruth/'",
     "output_type": "error",
     "traceback": [
      "\u001b[0;31m---------------------------------------------------------------------------\u001b[0m",
      "\u001b[0;31mFileNotFoundError\u001b[0m                         Traceback (most recent call last)",
      "\u001b[0;32m<ipython-input-1-f5f9b61c11d3>\u001b[0m in \u001b[0;36m<module>\u001b[0;34m()\u001b[0m\n\u001b[1;32m      9\u001b[0m     \u001b[0mg_i_dir\u001b[0m\u001b[0;34m=\u001b[0m\u001b[0mos\u001b[0m\u001b[0;34m.\u001b[0m\u001b[0mpath\u001b[0m\u001b[0;34m.\u001b[0m\u001b[0mjoin\u001b[0m\u001b[0;34m(\u001b[0m\u001b[0mdays\u001b[0m\u001b[0;34m[\u001b[0m\u001b[0mi\u001b[0m\u001b[0;34m]\u001b[0m\u001b[0;34m,\u001b[0m\u001b[0mg_m_dir\u001b[0m\u001b[0;34m)\u001b[0m\u001b[0;34m\u001b[0m\u001b[0m\n\u001b[1;32m     10\u001b[0m     \u001b[0;32mfor\u001b[0m \u001b[0mj\u001b[0m \u001b[0;32min\u001b[0m \u001b[0mrange\u001b[0m\u001b[0;34m(\u001b[0m\u001b[0mlen\u001b[0m\u001b[0;34m(\u001b[0m\u001b[0mg_i_dir\u001b[0m\u001b[0;34m)\u001b[0m\u001b[0;34m)\u001b[0m\u001b[0;34m:\u001b[0m\u001b[0;34m\u001b[0m\u001b[0m\n\u001b[0;32m---> 11\u001b[0;31m         \u001b[0mtground\u001b[0m\u001b[0;34m=\u001b[0m\u001b[0mos\u001b[0m\u001b[0;34m.\u001b[0m\u001b[0mlistdir\u001b[0m\u001b[0;34m(\u001b[0m\u001b[0mg_i_dir\u001b[0m\u001b[0;34m)\u001b[0m\u001b[0;34m\u001b[0m\u001b[0m\n\u001b[0m\u001b[1;32m     12\u001b[0m \u001b[0mprint\u001b[0m\u001b[0;34m(\u001b[0m\u001b[0mlen\u001b[0m\u001b[0;34m(\u001b[0m\u001b[0mtground\u001b[0m\u001b[0;34m)\u001b[0m\u001b[0;34m)\u001b[0m\u001b[0;34m\u001b[0m\u001b[0m\n",
      "\u001b[0;31mFileNotFoundError\u001b[0m: [Errno 2] No such file or directory: '/proj_depth/groundtruth/'"
     ]
    }
   ],
   "source": [
    "import os\n",
    "import numpy\n",
    "images=[]\n",
    "ground=[]\n",
    "g_o_dir='/home/lidong/Documents/datasets/single_driver/data_depth_annotated/train/'\n",
    "g_m_dir='/proj_depth/groundtruth/'\n",
    "days=os.listdir(g_o_dir)\n",
    "for i in range(len(days)):\n",
    "    g_i_dir=os.path.join(days[i],g_m_dir)\n",
    "    for j in range(len(g_i_dir)):\n",
    "        tground=os.listdir(g_i_dir)\n",
    "print(len(tground))\n"
   ]
  },
  {
   "cell_type": "code",
   "execution_count": 2,
   "metadata": {},
   "outputs": [
    {
     "data": {
      "text/plain": [
       "0"
      ]
     },
     "execution_count": 2,
     "metadata": {},
     "output_type": "execute_result"
    }
   ],
   "source": [
    "i\n"
   ]
  },
  {
   "cell_type": "code",
   "execution_count": 3,
   "metadata": {},
   "outputs": [
    {
     "data": {
      "text/plain": [
       "'2011_09_28_drive_0082_sync'"
      ]
     },
     "execution_count": 3,
     "metadata": {},
     "output_type": "execute_result"
    }
   ],
   "source": [
    "days[0]"
   ]
  },
  {
   "cell_type": "code",
   "execution_count": 4,
   "metadata": {},
   "outputs": [
    {
     "ename": "FileNotFoundError",
     "evalue": "[Errno 2] No such file or directory: '/proj_depth/groundtruth/'",
     "output_type": "error",
     "traceback": [
      "\u001b[0;31m---------------------------------------------------------------------------\u001b[0m",
      "\u001b[0;31mFileNotFoundError\u001b[0m                         Traceback (most recent call last)",
      "\u001b[0;32m<ipython-input-4-e03946cab90d>\u001b[0m in \u001b[0;36m<module>\u001b[0;34m()\u001b[0m\n\u001b[1;32m      9\u001b[0m     \u001b[0mg_i_dir\u001b[0m\u001b[0;34m=\u001b[0m\u001b[0mos\u001b[0m\u001b[0;34m.\u001b[0m\u001b[0mpath\u001b[0m\u001b[0;34m.\u001b[0m\u001b[0mjoin\u001b[0m\u001b[0;34m(\u001b[0m\u001b[0mg_o_dir\u001b[0m\u001b[0;34m,\u001b[0m\u001b[0mdays\u001b[0m\u001b[0;34m[\u001b[0m\u001b[0mi\u001b[0m\u001b[0;34m]\u001b[0m\u001b[0;34m,\u001b[0m\u001b[0mg_m_dir\u001b[0m\u001b[0;34m)\u001b[0m\u001b[0;34m\u001b[0m\u001b[0m\n\u001b[1;32m     10\u001b[0m     \u001b[0;32mfor\u001b[0m \u001b[0mj\u001b[0m \u001b[0;32min\u001b[0m \u001b[0mrange\u001b[0m\u001b[0;34m(\u001b[0m\u001b[0mlen\u001b[0m\u001b[0;34m(\u001b[0m\u001b[0mg_i_dir\u001b[0m\u001b[0;34m)\u001b[0m\u001b[0;34m)\u001b[0m\u001b[0;34m:\u001b[0m\u001b[0;34m\u001b[0m\u001b[0m\n\u001b[0;32m---> 11\u001b[0;31m         \u001b[0mtground\u001b[0m\u001b[0;34m=\u001b[0m\u001b[0mos\u001b[0m\u001b[0;34m.\u001b[0m\u001b[0mlistdir\u001b[0m\u001b[0;34m(\u001b[0m\u001b[0mos\u001b[0m\u001b[0;34m.\u001b[0m\u001b[0mpath\u001b[0m\u001b[0;34m.\u001b[0m\u001b[0mjoin\u001b[0m\u001b[0;34m(\u001b[0m\u001b[0mg_o_dir\u001b[0m\u001b[0;34m,\u001b[0m\u001b[0mdays\u001b[0m\u001b[0;34m[\u001b[0m\u001b[0mi\u001b[0m\u001b[0;34m]\u001b[0m\u001b[0;34m,\u001b[0m\u001b[0mg_m_dir\u001b[0m\u001b[0;34m,\u001b[0m\u001b[0mg_i_dir\u001b[0m\u001b[0;34m)\u001b[0m\u001b[0;34m)\u001b[0m\u001b[0;34m\u001b[0m\u001b[0m\n\u001b[0m\u001b[1;32m     12\u001b[0m \u001b[0mprint\u001b[0m\u001b[0;34m(\u001b[0m\u001b[0mlen\u001b[0m\u001b[0;34m(\u001b[0m\u001b[0mtground\u001b[0m\u001b[0;34m)\u001b[0m\u001b[0;34m)\u001b[0m\u001b[0;34m\u001b[0m\u001b[0m\n",
      "\u001b[0;31mFileNotFoundError\u001b[0m: [Errno 2] No such file or directory: '/proj_depth/groundtruth/'"
     ]
    }
   ],
   "source": [
    "import os\n",
    "import numpy\n",
    "images=[]\n",
    "ground=[]\n",
    "g_o_dir='/home/lidong/Documents/datasets/single_driver/data_depth_annotated/train/'\n",
    "g_m_dir='/proj_depth/groundtruth/'\n",
    "days=os.listdir(g_o_dir)\n",
    "for i in range(len(days)):\n",
    "    g_i_dir=os.path.join(g_o_dir,days[i],g_m_dir)\n",
    "    for j in range(len(g_i_dir)):\n",
    "        tground=os.listdir(os.path.join(g_o_dir,days[i],g_m_dir,g_i_dir))\n",
    "print(len(tground))"
   ]
  },
  {
   "cell_type": "code",
   "execution_count": 5,
   "metadata": {},
   "outputs": [
    {
     "data": {
      "text/plain": [
       "'/proj_depth/groundtruth/'"
      ]
     },
     "execution_count": 5,
     "metadata": {},
     "output_type": "execute_result"
    }
   ],
   "source": [
    "g_i_dir"
   ]
  },
  {
   "cell_type": "code",
   "execution_count": 6,
   "metadata": {},
   "outputs": [
    {
     "data": {
      "text/plain": [
       "'dasf/dsfa/a/c'"
      ]
     },
     "execution_count": 6,
     "metadata": {},
     "output_type": "execute_result"
    }
   ],
   "source": [
    "os.path.join('dasf','dsfa','a','c')"
   ]
  },
  {
   "cell_type": "code",
   "execution_count": 7,
   "metadata": {},
   "outputs": [],
   "source": [
    "import os\n",
    "import numpy\n",
    "images=[]\n",
    "ground=[]\n",
    "g_o_dir='/home/lidong/Documents/datasets/single_driver/data_depth_annotated/train'\n",
    "g_m_dir='proj_depth/groundtruth'\n",
    "days=os.listdir(g_o_dir)\n",
    "for i in range(len(days)):\n",
    "    g_i_dir=os.path.join(g_o_dir,days[i],g_m_dir)"
   ]
  },
  {
   "cell_type": "code",
   "execution_count": 8,
   "metadata": {},
   "outputs": [
    {
     "data": {
      "text/plain": [
       "'/proj_depth/groundtruth/'"
      ]
     },
     "execution_count": 8,
     "metadata": {},
     "output_type": "execute_result"
    }
   ],
   "source": [
    "g_i_dir"
   ]
  },
  {
   "cell_type": "code",
   "execution_count": 9,
   "metadata": {},
   "outputs": [
    {
     "data": {
      "text/plain": [
       "137"
      ]
     },
     "execution_count": 9,
     "metadata": {},
     "output_type": "execute_result"
    }
   ],
   "source": [
    "i\n"
   ]
  },
  {
   "cell_type": "code",
   "execution_count": 11,
   "metadata": {},
   "outputs": [
    {
     "data": {
      "text/plain": [
       "'2011_09_28_drive_0201_sync'"
      ]
     },
     "execution_count": 11,
     "metadata": {},
     "output_type": "execute_result"
    }
   ],
   "source": [
    "days[i]"
   ]
  },
  {
   "cell_type": "code",
   "execution_count": 14,
   "metadata": {},
   "outputs": [
    {
     "data": {
      "text/plain": [
       "'/home/lidong/Documents/datasets/single_driver/data_depth_annotated/train/2011_09_28_drive_0201_sync/a'"
      ]
     },
     "execution_count": 14,
     "metadata": {},
     "output_type": "execute_result"
    }
   ],
   "source": [
    "os.path.join(g_o_dir,days[i],'a')"
   ]
  },
  {
   "cell_type": "code",
   "execution_count": 15,
   "metadata": {},
   "outputs": [],
   "source": [
    "import os\n",
    "import numpy\n",
    "images=[]\n",
    "ground=[]\n",
    "g_o_dir='/home/lidong/Documents/datasets/single_driver/data_depth_annotated/train'\n",
    "g_m_dir='proj_depth/groundtruth'\n",
    "days=os.listdir(g_o_dir)\n",
    "for i in range(len(days)):\n",
    "    g_i_dir=os.path.join(g_o_dir,days[i],g_m_dir)"
   ]
  },
  {
   "cell_type": "code",
   "execution_count": 16,
   "metadata": {},
   "outputs": [
    {
     "data": {
      "text/plain": [
       "'/home/lidong/Documents/datasets/single_driver/data_depth_annotated/train/2011_09_28_drive_0201_sync/proj_depth/groundtruth'"
      ]
     },
     "execution_count": 16,
     "metadata": {},
     "output_type": "execute_result"
    }
   ],
   "source": [
    "g_i_dir"
   ]
  },
  {
   "cell_type": "code",
   "execution_count": 17,
   "metadata": {},
   "outputs": [
    {
     "name": "stdout",
     "output_type": "stream",
     "text": [
      "85898\n"
     ]
    }
   ],
   "source": [
    "import os\n",
    "import numpy as np\n",
    "images=[]\n",
    "ground=[]\n",
    "g_o_dir='/home/lidong/Documents/datasets/single_driver/data_depth_annotated/train'\n",
    "g_m_dir='proj_depth/groundtruth'\n",
    "days=os.listdir(g_o_dir)\n",
    "for i in range(len(days)):\n",
    "    g_i_dir=os.listdir(os.path.join(g_o_dir,days[i],g_m_dir))\n",
    "    for j in range(len(g_i_dir)):\n",
    "        tground=os.listdir(os.path.join(g_o_dir,days[i],g_m_dir,g_i_dir[j]))\n",
    "        for m in range(len(tground)):\n",
    "            ground.append(os.path.join(g_o_dir,days[i],g_m_dir,g_i_dir[j],tground[m]))\n",
    "print(len(ground))\n",
    "np.save('/home/lidong/Documents/RSDEN/RSDEN/kitti_path.npy',ground)\n"
   ]
  },
  {
   "cell_type": "code",
   "execution_count": 18,
   "metadata": {},
   "outputs": [
    {
     "data": {
      "text/plain": [
       "'/home/lidong/Documents/datasets/single_driver/data_depth_annotated/train/2011_09_28_drive_0082_sync/proj_depth/groundtruth/image_02/0000000027.png'"
      ]
     },
     "execution_count": 18,
     "metadata": {},
     "output_type": "execute_result"
    }
   ],
   "source": [
    "ground[0]"
   ]
  },
  {
   "cell_type": "code",
   "execution_count": 19,
   "metadata": {},
   "outputs": [
    {
     "data": {
      "text/plain": [
       "array([[[0, 0, 0],\n",
       "        [0, 0, 0],\n",
       "        [0, 0, 0],\n",
       "        ...,\n",
       "        [0, 0, 0],\n",
       "        [0, 0, 0],\n",
       "        [0, 0, 0]],\n",
       "\n",
       "       [[0, 0, 0],\n",
       "        [0, 0, 0],\n",
       "        [0, 0, 0],\n",
       "        ...,\n",
       "        [0, 0, 0],\n",
       "        [0, 0, 0],\n",
       "        [0, 0, 0]],\n",
       "\n",
       "       [[0, 0, 0],\n",
       "        [0, 0, 0],\n",
       "        [0, 0, 0],\n",
       "        ...,\n",
       "        [0, 0, 0],\n",
       "        [0, 0, 0],\n",
       "        [0, 0, 0]],\n",
       "\n",
       "       ...,\n",
       "\n",
       "       [[0, 0, 0],\n",
       "        [0, 0, 0],\n",
       "        [0, 0, 0],\n",
       "        ...,\n",
       "        [0, 0, 0],\n",
       "        [0, 0, 0],\n",
       "        [0, 0, 0]],\n",
       "\n",
       "       [[0, 0, 0],\n",
       "        [0, 0, 0],\n",
       "        [0, 0, 0],\n",
       "        ...,\n",
       "        [0, 0, 0],\n",
       "        [0, 0, 0],\n",
       "        [0, 0, 0]],\n",
       "\n",
       "       [[0, 0, 0],\n",
       "        [0, 0, 0],\n",
       "        [0, 0, 0],\n",
       "        ...,\n",
       "        [0, 0, 0],\n",
       "        [0, 0, 0],\n",
       "        [0, 0, 0]]], dtype=uint8)"
      ]
     },
     "execution_count": 19,
     "metadata": {},
     "output_type": "execute_result"
    }
   ],
   "source": [
    "import cv2\n",
    "cv2.imread(ground[0])"
   ]
  },
  {
   "cell_type": "code",
   "execution_count": 34,
   "metadata": {},
   "outputs": [
    {
     "ename": "FileNotFoundError",
     "evalue": "[Errno 2] No such file or directory: '/home/dataset/datasets/kitti/2011_09_28_drive_0177_sync.zip'",
     "output_type": "error",
     "traceback": [
      "\u001b[0;31m---------------------------------------------------------------------------\u001b[0m",
      "\u001b[0;31mFileNotFoundError\u001b[0m                         Traceback (most recent call last)",
      "\u001b[0;32m<ipython-input-34-85d05305b6ba>\u001b[0m in \u001b[0;36m<module>\u001b[0;34m()\u001b[0m\n\u001b[1;32m      2\u001b[0m \u001b[0mout_dir\u001b[0m\u001b[0;34m=\u001b[0m\u001b[0;34m'/home/lidong/Documents/datasets/single_driver/images/'\u001b[0m\u001b[0;34m\u001b[0m\u001b[0m\n\u001b[1;32m      3\u001b[0m \u001b[0mfile_name\u001b[0m\u001b[0;34m=\u001b[0m\u001b[0;34m'/home/dataset/datasets/kitti/2011_09_28_drive_0177_sync.zip'\u001b[0m\u001b[0;34m\u001b[0m\u001b[0m\n\u001b[0;32m----> 4\u001b[0;31m \u001b[0mzip_file\u001b[0m\u001b[0;34m=\u001b[0m\u001b[0mzipfile\u001b[0m\u001b[0;34m.\u001b[0m\u001b[0mZipFile\u001b[0m\u001b[0;34m(\u001b[0m\u001b[0mfile_name\u001b[0m\u001b[0;34m)\u001b[0m\u001b[0;34m\u001b[0m\u001b[0m\n\u001b[0m",
      "\u001b[0;32m~/anaconda3/lib/python3.6/zipfile.py\u001b[0m in \u001b[0;36m__init__\u001b[0;34m(self, file, mode, compression, allowZip64)\u001b[0m\n\u001b[1;32m   1088\u001b[0m             \u001b[0;32mwhile\u001b[0m \u001b[0;32mTrue\u001b[0m\u001b[0;34m:\u001b[0m\u001b[0;34m\u001b[0m\u001b[0m\n\u001b[1;32m   1089\u001b[0m                 \u001b[0;32mtry\u001b[0m\u001b[0;34m:\u001b[0m\u001b[0;34m\u001b[0m\u001b[0m\n\u001b[0;32m-> 1090\u001b[0;31m                     \u001b[0mself\u001b[0m\u001b[0;34m.\u001b[0m\u001b[0mfp\u001b[0m \u001b[0;34m=\u001b[0m \u001b[0mio\u001b[0m\u001b[0;34m.\u001b[0m\u001b[0mopen\u001b[0m\u001b[0;34m(\u001b[0m\u001b[0mfile\u001b[0m\u001b[0;34m,\u001b[0m \u001b[0mfilemode\u001b[0m\u001b[0;34m)\u001b[0m\u001b[0;34m\u001b[0m\u001b[0m\n\u001b[0m\u001b[1;32m   1091\u001b[0m                 \u001b[0;32mexcept\u001b[0m \u001b[0mOSError\u001b[0m\u001b[0;34m:\u001b[0m\u001b[0;34m\u001b[0m\u001b[0m\n\u001b[1;32m   1092\u001b[0m                     \u001b[0;32mif\u001b[0m \u001b[0mfilemode\u001b[0m \u001b[0;32min\u001b[0m \u001b[0mmodeDict\u001b[0m\u001b[0;34m:\u001b[0m\u001b[0;34m\u001b[0m\u001b[0m\n",
      "\u001b[0;31mFileNotFoundError\u001b[0m: [Errno 2] No such file or directory: '/home/dataset/datasets/kitti/2011_09_28_drive_0177_sync.zip'"
     ]
    }
   ],
   "source": [
    "import zipfile\n",
    "out_dir='/home/lidong/Documents/datasets/single_driver/images/'\n",
    "file_name='/home/dataset/datasets/kitti/2011_09_28_drive_0177_sync.zip'\n",
    "zip_file=zipfile.ZipFile(file_name)\n"
   ]
  },
  {
   "cell_type": "code",
   "execution_count": 37,
   "metadata": {},
   "outputs": [
    {
     "data": {
      "text/plain": [
       "False"
      ]
     },
     "execution_count": 37,
     "metadata": {},
     "output_type": "execute_result"
    }
   ],
   "source": [
    "not os.path.isfile('/home/dataset/datasets/kitti/2011_09_28_drive_0117_sync.zip')\n"
   ]
  },
  {
   "cell_type": "code",
   "execution_count": 23,
   "metadata": {},
   "outputs": [],
   "source": [
    "a=zip_file.namelist()"
   ]
  },
  {
   "cell_type": "code",
   "execution_count": 24,
   "metadata": {},
   "outputs": [
    {
     "data": {
      "text/plain": [
       "['2011_09_26/2011_09_26_drive_0001_sync/oxts/',\n",
       " '2011_09_26/2011_09_26_drive_0001_sync/oxts/timestamps.txt',\n",
       " '2011_09_26/2011_09_26_drive_0001_sync/oxts/data/',\n",
       " '2011_09_26/2011_09_26_drive_0001_sync/oxts/data/0000000017.txt',\n",
       " '2011_09_26/2011_09_26_drive_0001_sync/oxts/data/0000000083.txt',\n",
       " '2011_09_26/2011_09_26_drive_0001_sync/oxts/data/0000000043.txt',\n",
       " '2011_09_26/2011_09_26_drive_0001_sync/oxts/data/0000000059.txt',\n",
       " '2011_09_26/2011_09_26_drive_0001_sync/oxts/data/0000000062.txt',\n",
       " '2011_09_26/2011_09_26_drive_0001_sync/oxts/data/0000000009.txt',\n",
       " '2011_09_26/2011_09_26_drive_0001_sync/oxts/data/0000000106.txt',\n",
       " '2011_09_26/2011_09_26_drive_0001_sync/oxts/data/0000000075.txt',\n",
       " '2011_09_26/2011_09_26_drive_0001_sync/oxts/data/0000000046.txt',\n",
       " '2011_09_26/2011_09_26_drive_0001_sync/oxts/data/0000000076.txt',\n",
       " '2011_09_26/2011_09_26_drive_0001_sync/oxts/data/0000000086.txt',\n",
       " '2011_09_26/2011_09_26_drive_0001_sync/oxts/data/0000000093.txt',\n",
       " '2011_09_26/2011_09_26_drive_0001_sync/oxts/data/0000000089.txt',\n",
       " '2011_09_26/2011_09_26_drive_0001_sync/oxts/data/0000000063.txt',\n",
       " '2011_09_26/2011_09_26_drive_0001_sync/oxts/data/0000000001.txt',\n",
       " '2011_09_26/2011_09_26_drive_0001_sync/oxts/data/0000000020.txt',\n",
       " '2011_09_26/2011_09_26_drive_0001_sync/oxts/data/0000000003.txt',\n",
       " '2011_09_26/2011_09_26_drive_0001_sync/oxts/data/0000000027.txt',\n",
       " '2011_09_26/2011_09_26_drive_0001_sync/oxts/data/0000000011.txt',\n",
       " '2011_09_26/2011_09_26_drive_0001_sync/oxts/data/0000000050.txt',\n",
       " '2011_09_26/2011_09_26_drive_0001_sync/oxts/data/0000000051.txt',\n",
       " '2011_09_26/2011_09_26_drive_0001_sync/oxts/data/0000000097.txt',\n",
       " '2011_09_26/2011_09_26_drive_0001_sync/oxts/data/0000000095.txt',\n",
       " '2011_09_26/2011_09_26_drive_0001_sync/oxts/data/0000000005.txt',\n",
       " '2011_09_26/2011_09_26_drive_0001_sync/oxts/data/0000000100.txt',\n",
       " '2011_09_26/2011_09_26_drive_0001_sync/oxts/data/0000000006.txt',\n",
       " '2011_09_26/2011_09_26_drive_0001_sync/oxts/data/0000000034.txt',\n",
       " '2011_09_26/2011_09_26_drive_0001_sync/oxts/data/0000000045.txt',\n",
       " '2011_09_26/2011_09_26_drive_0001_sync/oxts/data/0000000072.txt',\n",
       " '2011_09_26/2011_09_26_drive_0001_sync/oxts/data/0000000052.txt',\n",
       " '2011_09_26/2011_09_26_drive_0001_sync/oxts/data/0000000013.txt',\n",
       " '2011_09_26/2011_09_26_drive_0001_sync/oxts/data/0000000021.txt',\n",
       " '2011_09_26/2011_09_26_drive_0001_sync/oxts/data/0000000002.txt',\n",
       " '2011_09_26/2011_09_26_drive_0001_sync/oxts/data/0000000070.txt',\n",
       " '2011_09_26/2011_09_26_drive_0001_sync/oxts/data/0000000105.txt',\n",
       " '2011_09_26/2011_09_26_drive_0001_sync/oxts/data/0000000102.txt',\n",
       " '2011_09_26/2011_09_26_drive_0001_sync/oxts/data/0000000077.txt',\n",
       " '2011_09_26/2011_09_26_drive_0001_sync/oxts/data/0000000054.txt',\n",
       " '2011_09_26/2011_09_26_drive_0001_sync/oxts/data/0000000073.txt',\n",
       " '2011_09_26/2011_09_26_drive_0001_sync/oxts/data/0000000066.txt',\n",
       " '2011_09_26/2011_09_26_drive_0001_sync/oxts/data/0000000101.txt',\n",
       " '2011_09_26/2011_09_26_drive_0001_sync/oxts/data/0000000104.txt',\n",
       " '2011_09_26/2011_09_26_drive_0001_sync/oxts/data/0000000058.txt',\n",
       " '2011_09_26/2011_09_26_drive_0001_sync/oxts/data/0000000019.txt',\n",
       " '2011_09_26/2011_09_26_drive_0001_sync/oxts/data/0000000030.txt',\n",
       " '2011_09_26/2011_09_26_drive_0001_sync/oxts/data/0000000036.txt',\n",
       " '2011_09_26/2011_09_26_drive_0001_sync/oxts/data/0000000015.txt',\n",
       " '2011_09_26/2011_09_26_drive_0001_sync/oxts/data/0000000064.txt',\n",
       " '2011_09_26/2011_09_26_drive_0001_sync/oxts/data/0000000096.txt',\n",
       " '2011_09_26/2011_09_26_drive_0001_sync/oxts/data/0000000038.txt',\n",
       " '2011_09_26/2011_09_26_drive_0001_sync/oxts/data/0000000040.txt',\n",
       " '2011_09_26/2011_09_26_drive_0001_sync/oxts/data/0000000007.txt',\n",
       " '2011_09_26/2011_09_26_drive_0001_sync/oxts/data/0000000071.txt',\n",
       " '2011_09_26/2011_09_26_drive_0001_sync/oxts/data/0000000088.txt',\n",
       " '2011_09_26/2011_09_26_drive_0001_sync/oxts/data/0000000048.txt',\n",
       " '2011_09_26/2011_09_26_drive_0001_sync/oxts/data/0000000033.txt',\n",
       " '2011_09_26/2011_09_26_drive_0001_sync/oxts/data/0000000074.txt',\n",
       " '2011_09_26/2011_09_26_drive_0001_sync/oxts/data/0000000078.txt',\n",
       " '2011_09_26/2011_09_26_drive_0001_sync/oxts/data/0000000098.txt',\n",
       " '2011_09_26/2011_09_26_drive_0001_sync/oxts/data/0000000085.txt',\n",
       " '2011_09_26/2011_09_26_drive_0001_sync/oxts/data/0000000090.txt',\n",
       " '2011_09_26/2011_09_26_drive_0001_sync/oxts/data/0000000092.txt',\n",
       " '2011_09_26/2011_09_26_drive_0001_sync/oxts/data/0000000080.txt',\n",
       " '2011_09_26/2011_09_26_drive_0001_sync/oxts/data/0000000103.txt',\n",
       " '2011_09_26/2011_09_26_drive_0001_sync/oxts/data/0000000042.txt',\n",
       " '2011_09_26/2011_09_26_drive_0001_sync/oxts/data/0000000067.txt',\n",
       " '2011_09_26/2011_09_26_drive_0001_sync/oxts/data/0000000018.txt',\n",
       " '2011_09_26/2011_09_26_drive_0001_sync/oxts/data/0000000057.txt',\n",
       " '2011_09_26/2011_09_26_drive_0001_sync/oxts/data/0000000094.txt',\n",
       " '2011_09_26/2011_09_26_drive_0001_sync/oxts/data/0000000039.txt',\n",
       " '2011_09_26/2011_09_26_drive_0001_sync/oxts/data/0000000081.txt',\n",
       " '2011_09_26/2011_09_26_drive_0001_sync/oxts/data/0000000037.txt',\n",
       " '2011_09_26/2011_09_26_drive_0001_sync/oxts/data/0000000035.txt',\n",
       " '2011_09_26/2011_09_26_drive_0001_sync/oxts/data/0000000065.txt',\n",
       " '2011_09_26/2011_09_26_drive_0001_sync/oxts/data/0000000107.txt',\n",
       " '2011_09_26/2011_09_26_drive_0001_sync/oxts/data/0000000069.txt',\n",
       " '2011_09_26/2011_09_26_drive_0001_sync/oxts/data/0000000056.txt',\n",
       " '2011_09_26/2011_09_26_drive_0001_sync/oxts/data/0000000099.txt',\n",
       " '2011_09_26/2011_09_26_drive_0001_sync/oxts/data/0000000012.txt',\n",
       " '2011_09_26/2011_09_26_drive_0001_sync/oxts/data/0000000004.txt',\n",
       " '2011_09_26/2011_09_26_drive_0001_sync/oxts/data/0000000084.txt',\n",
       " '2011_09_26/2011_09_26_drive_0001_sync/oxts/data/0000000031.txt',\n",
       " '2011_09_26/2011_09_26_drive_0001_sync/oxts/data/0000000079.txt',\n",
       " '2011_09_26/2011_09_26_drive_0001_sync/oxts/data/0000000014.txt',\n",
       " '2011_09_26/2011_09_26_drive_0001_sync/oxts/data/0000000041.txt',\n",
       " '2011_09_26/2011_09_26_drive_0001_sync/oxts/data/0000000008.txt',\n",
       " '2011_09_26/2011_09_26_drive_0001_sync/oxts/data/0000000025.txt',\n",
       " '2011_09_26/2011_09_26_drive_0001_sync/oxts/data/0000000082.txt',\n",
       " '2011_09_26/2011_09_26_drive_0001_sync/oxts/data/0000000028.txt',\n",
       " '2011_09_26/2011_09_26_drive_0001_sync/oxts/data/0000000055.txt',\n",
       " '2011_09_26/2011_09_26_drive_0001_sync/oxts/data/0000000060.txt',\n",
       " '2011_09_26/2011_09_26_drive_0001_sync/oxts/data/0000000053.txt',\n",
       " '2011_09_26/2011_09_26_drive_0001_sync/oxts/data/0000000010.txt',\n",
       " '2011_09_26/2011_09_26_drive_0001_sync/oxts/data/0000000022.txt',\n",
       " '2011_09_26/2011_09_26_drive_0001_sync/oxts/data/0000000049.txt',\n",
       " '2011_09_26/2011_09_26_drive_0001_sync/oxts/data/0000000047.txt',\n",
       " '2011_09_26/2011_09_26_drive_0001_sync/oxts/data/0000000044.txt',\n",
       " '2011_09_26/2011_09_26_drive_0001_sync/oxts/data/0000000026.txt',\n",
       " '2011_09_26/2011_09_26_drive_0001_sync/oxts/data/0000000032.txt',\n",
       " '2011_09_26/2011_09_26_drive_0001_sync/oxts/data/0000000029.txt',\n",
       " '2011_09_26/2011_09_26_drive_0001_sync/oxts/data/0000000068.txt',\n",
       " '2011_09_26/2011_09_26_drive_0001_sync/oxts/data/0000000000.txt',\n",
       " '2011_09_26/2011_09_26_drive_0001_sync/oxts/data/0000000016.txt',\n",
       " '2011_09_26/2011_09_26_drive_0001_sync/oxts/data/0000000061.txt',\n",
       " '2011_09_26/2011_09_26_drive_0001_sync/oxts/data/0000000091.txt',\n",
       " '2011_09_26/2011_09_26_drive_0001_sync/oxts/data/0000000023.txt',\n",
       " '2011_09_26/2011_09_26_drive_0001_sync/oxts/data/0000000024.txt',\n",
       " '2011_09_26/2011_09_26_drive_0001_sync/oxts/data/0000000087.txt',\n",
       " '2011_09_26/2011_09_26_drive_0001_sync/oxts/dataformat.txt',\n",
       " '2011_09_26/2011_09_26_drive_0001_sync/image_00/',\n",
       " '2011_09_26/2011_09_26_drive_0001_sync/image_00/timestamps.txt',\n",
       " '2011_09_26/2011_09_26_drive_0001_sync/image_00/data/',\n",
       " '2011_09_26/2011_09_26_drive_0001_sync/image_00/data/0000000008.png',\n",
       " '2011_09_26/2011_09_26_drive_0001_sync/image_00/data/0000000027.png',\n",
       " '2011_09_26/2011_09_26_drive_0001_sync/image_00/data/0000000063.png',\n",
       " '2011_09_26/2011_09_26_drive_0001_sync/image_00/data/0000000058.png',\n",
       " '2011_09_26/2011_09_26_drive_0001_sync/image_00/data/0000000036.png',\n",
       " '2011_09_26/2011_09_26_drive_0001_sync/image_00/data/0000000022.png',\n",
       " '2011_09_26/2011_09_26_drive_0001_sync/image_00/data/0000000044.png',\n",
       " '2011_09_26/2011_09_26_drive_0001_sync/image_00/data/0000000088.png',\n",
       " '2011_09_26/2011_09_26_drive_0001_sync/image_00/data/0000000007.png',\n",
       " '2011_09_26/2011_09_26_drive_0001_sync/image_00/data/0000000050.png',\n",
       " '2011_09_26/2011_09_26_drive_0001_sync/image_00/data/0000000087.png',\n",
       " '2011_09_26/2011_09_26_drive_0001_sync/image_00/data/0000000039.png',\n",
       " '2011_09_26/2011_09_26_drive_0001_sync/image_00/data/0000000038.png',\n",
       " '2011_09_26/2011_09_26_drive_0001_sync/image_00/data/0000000097.png',\n",
       " '2011_09_26/2011_09_26_drive_0001_sync/image_00/data/0000000023.png',\n",
       " '2011_09_26/2011_09_26_drive_0001_sync/image_00/data/0000000019.png',\n",
       " '2011_09_26/2011_09_26_drive_0001_sync/image_00/data/0000000041.png',\n",
       " '2011_09_26/2011_09_26_drive_0001_sync/image_00/data/0000000090.png',\n",
       " '2011_09_26/2011_09_26_drive_0001_sync/image_00/data/0000000062.png',\n",
       " '2011_09_26/2011_09_26_drive_0001_sync/image_00/data/0000000017.png',\n",
       " '2011_09_26/2011_09_26_drive_0001_sync/image_00/data/0000000084.png',\n",
       " '2011_09_26/2011_09_26_drive_0001_sync/image_00/data/0000000014.png',\n",
       " '2011_09_26/2011_09_26_drive_0001_sync/image_00/data/0000000005.png',\n",
       " '2011_09_26/2011_09_26_drive_0001_sync/image_00/data/0000000056.png',\n",
       " '2011_09_26/2011_09_26_drive_0001_sync/image_00/data/0000000057.png',\n",
       " '2011_09_26/2011_09_26_drive_0001_sync/image_00/data/0000000018.png',\n",
       " '2011_09_26/2011_09_26_drive_0001_sync/image_00/data/0000000009.png',\n",
       " '2011_09_26/2011_09_26_drive_0001_sync/image_00/data/0000000096.png',\n",
       " '2011_09_26/2011_09_26_drive_0001_sync/image_00/data/0000000051.png',\n",
       " '2011_09_26/2011_09_26_drive_0001_sync/image_00/data/0000000029.png',\n",
       " '2011_09_26/2011_09_26_drive_0001_sync/image_00/data/0000000106.png',\n",
       " '2011_09_26/2011_09_26_drive_0001_sync/image_00/data/0000000046.png',\n",
       " '2011_09_26/2011_09_26_drive_0001_sync/image_00/data/0000000098.png',\n",
       " '2011_09_26/2011_09_26_drive_0001_sync/image_00/data/0000000071.png',\n",
       " '2011_09_26/2011_09_26_drive_0001_sync/image_00/data/0000000076.png',\n",
       " '2011_09_26/2011_09_26_drive_0001_sync/image_00/data/0000000048.png',\n",
       " '2011_09_26/2011_09_26_drive_0001_sync/image_00/data/0000000080.png',\n",
       " '2011_09_26/2011_09_26_drive_0001_sync/image_00/data/0000000043.png',\n",
       " '2011_09_26/2011_09_26_drive_0001_sync/image_00/data/0000000078.png',\n",
       " '2011_09_26/2011_09_26_drive_0001_sync/image_00/data/0000000010.png',\n",
       " '2011_09_26/2011_09_26_drive_0001_sync/image_00/data/0000000045.png',\n",
       " '2011_09_26/2011_09_26_drive_0001_sync/image_00/data/0000000055.png',\n",
       " '2011_09_26/2011_09_26_drive_0001_sync/image_00/data/0000000085.png',\n",
       " '2011_09_26/2011_09_26_drive_0001_sync/image_00/data/0000000099.png',\n",
       " '2011_09_26/2011_09_26_drive_0001_sync/image_00/data/0000000032.png',\n",
       " '2011_09_26/2011_09_26_drive_0001_sync/image_00/data/0000000001.png',\n",
       " '2011_09_26/2011_09_26_drive_0001_sync/image_00/data/0000000052.png',\n",
       " '2011_09_26/2011_09_26_drive_0001_sync/image_00/data/0000000040.png',\n",
       " '2011_09_26/2011_09_26_drive_0001_sync/image_00/data/0000000064.png',\n",
       " '2011_09_26/2011_09_26_drive_0001_sync/image_00/data/0000000073.png',\n",
       " '2011_09_26/2011_09_26_drive_0001_sync/image_00/data/0000000011.png',\n",
       " '2011_09_26/2011_09_26_drive_0001_sync/image_00/data/0000000004.png',\n",
       " '2011_09_26/2011_09_26_drive_0001_sync/image_00/data/0000000020.png',\n",
       " '2011_09_26/2011_09_26_drive_0001_sync/image_00/data/0000000000.png',\n",
       " '2011_09_26/2011_09_26_drive_0001_sync/image_00/data/0000000101.png',\n",
       " '2011_09_26/2011_09_26_drive_0001_sync/image_00/data/0000000002.png',\n",
       " '2011_09_26/2011_09_26_drive_0001_sync/image_00/data/0000000086.png',\n",
       " '2011_09_26/2011_09_26_drive_0001_sync/image_00/data/0000000054.png',\n",
       " '2011_09_26/2011_09_26_drive_0001_sync/image_00/data/0000000053.png',\n",
       " '2011_09_26/2011_09_26_drive_0001_sync/image_00/data/0000000093.png',\n",
       " '2011_09_26/2011_09_26_drive_0001_sync/image_00/data/0000000025.png',\n",
       " '2011_09_26/2011_09_26_drive_0001_sync/image_00/data/0000000107.png',\n",
       " '2011_09_26/2011_09_26_drive_0001_sync/image_00/data/0000000079.png',\n",
       " '2011_09_26/2011_09_26_drive_0001_sync/image_00/data/0000000074.png',\n",
       " '2011_09_26/2011_09_26_drive_0001_sync/image_00/data/0000000089.png',\n",
       " '2011_09_26/2011_09_26_drive_0001_sync/image_00/data/0000000024.png',\n",
       " '2011_09_26/2011_09_26_drive_0001_sync/image_00/data/0000000103.png',\n",
       " '2011_09_26/2011_09_26_drive_0001_sync/image_00/data/0000000100.png',\n",
       " '2011_09_26/2011_09_26_drive_0001_sync/image_00/data/0000000067.png',\n",
       " '2011_09_26/2011_09_26_drive_0001_sync/image_00/data/0000000030.png',\n",
       " '2011_09_26/2011_09_26_drive_0001_sync/image_00/data/0000000094.png',\n",
       " '2011_09_26/2011_09_26_drive_0001_sync/image_00/data/0000000069.png',\n",
       " '2011_09_26/2011_09_26_drive_0001_sync/image_00/data/0000000028.png',\n",
       " '2011_09_26/2011_09_26_drive_0001_sync/image_00/data/0000000003.png',\n",
       " '2011_09_26/2011_09_26_drive_0001_sync/image_00/data/0000000104.png',\n",
       " '2011_09_26/2011_09_26_drive_0001_sync/image_00/data/0000000049.png',\n",
       " '2011_09_26/2011_09_26_drive_0001_sync/image_00/data/0000000068.png',\n",
       " '2011_09_26/2011_09_26_drive_0001_sync/image_00/data/0000000016.png',\n",
       " '2011_09_26/2011_09_26_drive_0001_sync/image_00/data/0000000105.png',\n",
       " '2011_09_26/2011_09_26_drive_0001_sync/image_00/data/0000000072.png',\n",
       " '2011_09_26/2011_09_26_drive_0001_sync/image_00/data/0000000091.png',\n",
       " '2011_09_26/2011_09_26_drive_0001_sync/image_00/data/0000000059.png',\n",
       " '2011_09_26/2011_09_26_drive_0001_sync/image_00/data/0000000082.png',\n",
       " '2011_09_26/2011_09_26_drive_0001_sync/image_00/data/0000000070.png',\n",
       " '2011_09_26/2011_09_26_drive_0001_sync/image_00/data/0000000066.png',\n",
       " '2011_09_26/2011_09_26_drive_0001_sync/image_00/data/0000000006.png',\n",
       " '2011_09_26/2011_09_26_drive_0001_sync/image_00/data/0000000021.png',\n",
       " '2011_09_26/2011_09_26_drive_0001_sync/image_00/data/0000000047.png',\n",
       " '2011_09_26/2011_09_26_drive_0001_sync/image_00/data/0000000061.png',\n",
       " '2011_09_26/2011_09_26_drive_0001_sync/image_00/data/0000000042.png',\n",
       " '2011_09_26/2011_09_26_drive_0001_sync/image_00/data/0000000102.png',\n",
       " '2011_09_26/2011_09_26_drive_0001_sync/image_00/data/0000000015.png',\n",
       " '2011_09_26/2011_09_26_drive_0001_sync/image_00/data/0000000077.png',\n",
       " '2011_09_26/2011_09_26_drive_0001_sync/image_00/data/0000000026.png',\n",
       " '2011_09_26/2011_09_26_drive_0001_sync/image_00/data/0000000083.png',\n",
       " '2011_09_26/2011_09_26_drive_0001_sync/image_00/data/0000000060.png',\n",
       " '2011_09_26/2011_09_26_drive_0001_sync/image_00/data/0000000013.png',\n",
       " '2011_09_26/2011_09_26_drive_0001_sync/image_00/data/0000000081.png',\n",
       " '2011_09_26/2011_09_26_drive_0001_sync/image_00/data/0000000012.png',\n",
       " '2011_09_26/2011_09_26_drive_0001_sync/image_00/data/0000000031.png',\n",
       " '2011_09_26/2011_09_26_drive_0001_sync/image_00/data/0000000075.png',\n",
       " '2011_09_26/2011_09_26_drive_0001_sync/image_00/data/0000000034.png',\n",
       " '2011_09_26/2011_09_26_drive_0001_sync/image_00/data/0000000095.png',\n",
       " '2011_09_26/2011_09_26_drive_0001_sync/image_00/data/0000000092.png',\n",
       " '2011_09_26/2011_09_26_drive_0001_sync/image_00/data/0000000065.png',\n",
       " '2011_09_26/2011_09_26_drive_0001_sync/image_00/data/0000000033.png',\n",
       " '2011_09_26/2011_09_26_drive_0001_sync/image_00/data/0000000035.png',\n",
       " '2011_09_26/2011_09_26_drive_0001_sync/image_00/data/0000000037.png',\n",
       " '2011_09_26/2011_09_26_drive_0001_sync/image_01/',\n",
       " '2011_09_26/2011_09_26_drive_0001_sync/image_01/timestamps.txt',\n",
       " '2011_09_26/2011_09_26_drive_0001_sync/image_01/data/',\n",
       " '2011_09_26/2011_09_26_drive_0001_sync/image_01/data/0000000008.png',\n",
       " '2011_09_26/2011_09_26_drive_0001_sync/image_01/data/0000000027.png',\n",
       " '2011_09_26/2011_09_26_drive_0001_sync/image_01/data/0000000063.png',\n",
       " '2011_09_26/2011_09_26_drive_0001_sync/image_01/data/0000000058.png',\n",
       " '2011_09_26/2011_09_26_drive_0001_sync/image_01/data/0000000036.png',\n",
       " '2011_09_26/2011_09_26_drive_0001_sync/image_01/data/0000000022.png',\n",
       " '2011_09_26/2011_09_26_drive_0001_sync/image_01/data/0000000044.png',\n",
       " '2011_09_26/2011_09_26_drive_0001_sync/image_01/data/0000000088.png',\n",
       " '2011_09_26/2011_09_26_drive_0001_sync/image_01/data/0000000007.png',\n",
       " '2011_09_26/2011_09_26_drive_0001_sync/image_01/data/0000000050.png',\n",
       " '2011_09_26/2011_09_26_drive_0001_sync/image_01/data/0000000087.png',\n",
       " '2011_09_26/2011_09_26_drive_0001_sync/image_01/data/0000000039.png',\n",
       " '2011_09_26/2011_09_26_drive_0001_sync/image_01/data/0000000038.png',\n",
       " '2011_09_26/2011_09_26_drive_0001_sync/image_01/data/0000000097.png',\n",
       " '2011_09_26/2011_09_26_drive_0001_sync/image_01/data/0000000023.png',\n",
       " '2011_09_26/2011_09_26_drive_0001_sync/image_01/data/0000000019.png',\n",
       " '2011_09_26/2011_09_26_drive_0001_sync/image_01/data/0000000041.png',\n",
       " '2011_09_26/2011_09_26_drive_0001_sync/image_01/data/0000000090.png',\n",
       " '2011_09_26/2011_09_26_drive_0001_sync/image_01/data/0000000062.png',\n",
       " '2011_09_26/2011_09_26_drive_0001_sync/image_01/data/0000000017.png',\n",
       " '2011_09_26/2011_09_26_drive_0001_sync/image_01/data/0000000084.png',\n",
       " '2011_09_26/2011_09_26_drive_0001_sync/image_01/data/0000000014.png',\n",
       " '2011_09_26/2011_09_26_drive_0001_sync/image_01/data/0000000005.png',\n",
       " '2011_09_26/2011_09_26_drive_0001_sync/image_01/data/0000000056.png',\n",
       " '2011_09_26/2011_09_26_drive_0001_sync/image_01/data/0000000057.png',\n",
       " '2011_09_26/2011_09_26_drive_0001_sync/image_01/data/0000000018.png',\n",
       " '2011_09_26/2011_09_26_drive_0001_sync/image_01/data/0000000009.png',\n",
       " '2011_09_26/2011_09_26_drive_0001_sync/image_01/data/0000000096.png',\n",
       " '2011_09_26/2011_09_26_drive_0001_sync/image_01/data/0000000051.png',\n",
       " '2011_09_26/2011_09_26_drive_0001_sync/image_01/data/0000000029.png',\n",
       " '2011_09_26/2011_09_26_drive_0001_sync/image_01/data/0000000106.png',\n",
       " '2011_09_26/2011_09_26_drive_0001_sync/image_01/data/0000000046.png',\n",
       " '2011_09_26/2011_09_26_drive_0001_sync/image_01/data/0000000098.png',\n",
       " '2011_09_26/2011_09_26_drive_0001_sync/image_01/data/0000000071.png',\n",
       " '2011_09_26/2011_09_26_drive_0001_sync/image_01/data/0000000076.png',\n",
       " '2011_09_26/2011_09_26_drive_0001_sync/image_01/data/0000000048.png',\n",
       " '2011_09_26/2011_09_26_drive_0001_sync/image_01/data/0000000080.png',\n",
       " '2011_09_26/2011_09_26_drive_0001_sync/image_01/data/0000000043.png',\n",
       " '2011_09_26/2011_09_26_drive_0001_sync/image_01/data/0000000078.png',\n",
       " '2011_09_26/2011_09_26_drive_0001_sync/image_01/data/0000000010.png',\n",
       " '2011_09_26/2011_09_26_drive_0001_sync/image_01/data/0000000045.png',\n",
       " '2011_09_26/2011_09_26_drive_0001_sync/image_01/data/0000000055.png',\n",
       " '2011_09_26/2011_09_26_drive_0001_sync/image_01/data/0000000085.png',\n",
       " '2011_09_26/2011_09_26_drive_0001_sync/image_01/data/0000000099.png',\n",
       " '2011_09_26/2011_09_26_drive_0001_sync/image_01/data/0000000032.png',\n",
       " '2011_09_26/2011_09_26_drive_0001_sync/image_01/data/0000000001.png',\n",
       " '2011_09_26/2011_09_26_drive_0001_sync/image_01/data/0000000052.png',\n",
       " '2011_09_26/2011_09_26_drive_0001_sync/image_01/data/0000000040.png',\n",
       " '2011_09_26/2011_09_26_drive_0001_sync/image_01/data/0000000064.png',\n",
       " '2011_09_26/2011_09_26_drive_0001_sync/image_01/data/0000000073.png',\n",
       " '2011_09_26/2011_09_26_drive_0001_sync/image_01/data/0000000011.png',\n",
       " '2011_09_26/2011_09_26_drive_0001_sync/image_01/data/0000000004.png',\n",
       " '2011_09_26/2011_09_26_drive_0001_sync/image_01/data/0000000020.png',\n",
       " '2011_09_26/2011_09_26_drive_0001_sync/image_01/data/0000000000.png',\n",
       " '2011_09_26/2011_09_26_drive_0001_sync/image_01/data/0000000101.png',\n",
       " '2011_09_26/2011_09_26_drive_0001_sync/image_01/data/0000000002.png',\n",
       " '2011_09_26/2011_09_26_drive_0001_sync/image_01/data/0000000086.png',\n",
       " '2011_09_26/2011_09_26_drive_0001_sync/image_01/data/0000000054.png',\n",
       " '2011_09_26/2011_09_26_drive_0001_sync/image_01/data/0000000053.png',\n",
       " '2011_09_26/2011_09_26_drive_0001_sync/image_01/data/0000000093.png',\n",
       " '2011_09_26/2011_09_26_drive_0001_sync/image_01/data/0000000025.png',\n",
       " '2011_09_26/2011_09_26_drive_0001_sync/image_01/data/0000000107.png',\n",
       " '2011_09_26/2011_09_26_drive_0001_sync/image_01/data/0000000079.png',\n",
       " '2011_09_26/2011_09_26_drive_0001_sync/image_01/data/0000000074.png',\n",
       " '2011_09_26/2011_09_26_drive_0001_sync/image_01/data/0000000089.png',\n",
       " '2011_09_26/2011_09_26_drive_0001_sync/image_01/data/0000000024.png',\n",
       " '2011_09_26/2011_09_26_drive_0001_sync/image_01/data/0000000103.png',\n",
       " '2011_09_26/2011_09_26_drive_0001_sync/image_01/data/0000000100.png',\n",
       " '2011_09_26/2011_09_26_drive_0001_sync/image_01/data/0000000067.png',\n",
       " '2011_09_26/2011_09_26_drive_0001_sync/image_01/data/0000000030.png',\n",
       " '2011_09_26/2011_09_26_drive_0001_sync/image_01/data/0000000094.png',\n",
       " '2011_09_26/2011_09_26_drive_0001_sync/image_01/data/0000000069.png',\n",
       " '2011_09_26/2011_09_26_drive_0001_sync/image_01/data/0000000028.png',\n",
       " '2011_09_26/2011_09_26_drive_0001_sync/image_01/data/0000000003.png',\n",
       " '2011_09_26/2011_09_26_drive_0001_sync/image_01/data/0000000104.png',\n",
       " '2011_09_26/2011_09_26_drive_0001_sync/image_01/data/0000000049.png',\n",
       " '2011_09_26/2011_09_26_drive_0001_sync/image_01/data/0000000068.png',\n",
       " '2011_09_26/2011_09_26_drive_0001_sync/image_01/data/0000000016.png',\n",
       " '2011_09_26/2011_09_26_drive_0001_sync/image_01/data/0000000105.png',\n",
       " '2011_09_26/2011_09_26_drive_0001_sync/image_01/data/0000000072.png',\n",
       " '2011_09_26/2011_09_26_drive_0001_sync/image_01/data/0000000091.png',\n",
       " '2011_09_26/2011_09_26_drive_0001_sync/image_01/data/0000000059.png',\n",
       " '2011_09_26/2011_09_26_drive_0001_sync/image_01/data/0000000082.png',\n",
       " '2011_09_26/2011_09_26_drive_0001_sync/image_01/data/0000000070.png',\n",
       " '2011_09_26/2011_09_26_drive_0001_sync/image_01/data/0000000066.png',\n",
       " '2011_09_26/2011_09_26_drive_0001_sync/image_01/data/0000000006.png',\n",
       " '2011_09_26/2011_09_26_drive_0001_sync/image_01/data/0000000021.png',\n",
       " '2011_09_26/2011_09_26_drive_0001_sync/image_01/data/0000000047.png',\n",
       " '2011_09_26/2011_09_26_drive_0001_sync/image_01/data/0000000061.png',\n",
       " '2011_09_26/2011_09_26_drive_0001_sync/image_01/data/0000000042.png',\n",
       " '2011_09_26/2011_09_26_drive_0001_sync/image_01/data/0000000102.png',\n",
       " '2011_09_26/2011_09_26_drive_0001_sync/image_01/data/0000000015.png',\n",
       " '2011_09_26/2011_09_26_drive_0001_sync/image_01/data/0000000077.png',\n",
       " '2011_09_26/2011_09_26_drive_0001_sync/image_01/data/0000000026.png',\n",
       " '2011_09_26/2011_09_26_drive_0001_sync/image_01/data/0000000083.png',\n",
       " '2011_09_26/2011_09_26_drive_0001_sync/image_01/data/0000000060.png',\n",
       " '2011_09_26/2011_09_26_drive_0001_sync/image_01/data/0000000013.png',\n",
       " '2011_09_26/2011_09_26_drive_0001_sync/image_01/data/0000000081.png',\n",
       " '2011_09_26/2011_09_26_drive_0001_sync/image_01/data/0000000012.png',\n",
       " '2011_09_26/2011_09_26_drive_0001_sync/image_01/data/0000000031.png',\n",
       " '2011_09_26/2011_09_26_drive_0001_sync/image_01/data/0000000075.png',\n",
       " '2011_09_26/2011_09_26_drive_0001_sync/image_01/data/0000000034.png',\n",
       " '2011_09_26/2011_09_26_drive_0001_sync/image_01/data/0000000095.png',\n",
       " '2011_09_26/2011_09_26_drive_0001_sync/image_01/data/0000000092.png',\n",
       " '2011_09_26/2011_09_26_drive_0001_sync/image_01/data/0000000065.png',\n",
       " '2011_09_26/2011_09_26_drive_0001_sync/image_01/data/0000000033.png',\n",
       " '2011_09_26/2011_09_26_drive_0001_sync/image_01/data/0000000035.png',\n",
       " '2011_09_26/2011_09_26_drive_0001_sync/image_01/data/0000000037.png',\n",
       " '2011_09_26/2011_09_26_drive_0001_sync/image_02/',\n",
       " '2011_09_26/2011_09_26_drive_0001_sync/image_02/timestamps.txt',\n",
       " '2011_09_26/2011_09_26_drive_0001_sync/image_02/data/',\n",
       " '2011_09_26/2011_09_26_drive_0001_sync/image_02/data/0000000008.png',\n",
       " '2011_09_26/2011_09_26_drive_0001_sync/image_02/data/0000000027.png',\n",
       " '2011_09_26/2011_09_26_drive_0001_sync/image_02/data/0000000063.png',\n",
       " '2011_09_26/2011_09_26_drive_0001_sync/image_02/data/0000000058.png',\n",
       " '2011_09_26/2011_09_26_drive_0001_sync/image_02/data/0000000036.png',\n",
       " '2011_09_26/2011_09_26_drive_0001_sync/image_02/data/0000000022.png',\n",
       " '2011_09_26/2011_09_26_drive_0001_sync/image_02/data/0000000044.png',\n",
       " '2011_09_26/2011_09_26_drive_0001_sync/image_02/data/0000000088.png',\n",
       " '2011_09_26/2011_09_26_drive_0001_sync/image_02/data/0000000007.png',\n",
       " '2011_09_26/2011_09_26_drive_0001_sync/image_02/data/0000000050.png',\n",
       " '2011_09_26/2011_09_26_drive_0001_sync/image_02/data/0000000087.png',\n",
       " '2011_09_26/2011_09_26_drive_0001_sync/image_02/data/0000000039.png',\n",
       " '2011_09_26/2011_09_26_drive_0001_sync/image_02/data/0000000038.png',\n",
       " '2011_09_26/2011_09_26_drive_0001_sync/image_02/data/0000000097.png',\n",
       " '2011_09_26/2011_09_26_drive_0001_sync/image_02/data/0000000023.png',\n",
       " '2011_09_26/2011_09_26_drive_0001_sync/image_02/data/0000000019.png',\n",
       " '2011_09_26/2011_09_26_drive_0001_sync/image_02/data/0000000041.png',\n",
       " '2011_09_26/2011_09_26_drive_0001_sync/image_02/data/0000000090.png',\n",
       " '2011_09_26/2011_09_26_drive_0001_sync/image_02/data/0000000062.png',\n",
       " '2011_09_26/2011_09_26_drive_0001_sync/image_02/data/0000000017.png',\n",
       " '2011_09_26/2011_09_26_drive_0001_sync/image_02/data/0000000084.png',\n",
       " '2011_09_26/2011_09_26_drive_0001_sync/image_02/data/0000000014.png',\n",
       " '2011_09_26/2011_09_26_drive_0001_sync/image_02/data/0000000005.png',\n",
       " '2011_09_26/2011_09_26_drive_0001_sync/image_02/data/0000000056.png',\n",
       " '2011_09_26/2011_09_26_drive_0001_sync/image_02/data/0000000057.png',\n",
       " '2011_09_26/2011_09_26_drive_0001_sync/image_02/data/0000000018.png',\n",
       " '2011_09_26/2011_09_26_drive_0001_sync/image_02/data/0000000009.png',\n",
       " '2011_09_26/2011_09_26_drive_0001_sync/image_02/data/0000000096.png',\n",
       " '2011_09_26/2011_09_26_drive_0001_sync/image_02/data/0000000051.png',\n",
       " '2011_09_26/2011_09_26_drive_0001_sync/image_02/data/0000000029.png',\n",
       " '2011_09_26/2011_09_26_drive_0001_sync/image_02/data/0000000106.png',\n",
       " '2011_09_26/2011_09_26_drive_0001_sync/image_02/data/0000000046.png',\n",
       " '2011_09_26/2011_09_26_drive_0001_sync/image_02/data/0000000098.png',\n",
       " '2011_09_26/2011_09_26_drive_0001_sync/image_02/data/0000000071.png',\n",
       " '2011_09_26/2011_09_26_drive_0001_sync/image_02/data/0000000076.png',\n",
       " '2011_09_26/2011_09_26_drive_0001_sync/image_02/data/0000000048.png',\n",
       " '2011_09_26/2011_09_26_drive_0001_sync/image_02/data/0000000080.png',\n",
       " '2011_09_26/2011_09_26_drive_0001_sync/image_02/data/0000000043.png',\n",
       " '2011_09_26/2011_09_26_drive_0001_sync/image_02/data/0000000078.png',\n",
       " '2011_09_26/2011_09_26_drive_0001_sync/image_02/data/0000000010.png',\n",
       " '2011_09_26/2011_09_26_drive_0001_sync/image_02/data/0000000045.png',\n",
       " '2011_09_26/2011_09_26_drive_0001_sync/image_02/data/0000000055.png',\n",
       " '2011_09_26/2011_09_26_drive_0001_sync/image_02/data/0000000085.png',\n",
       " '2011_09_26/2011_09_26_drive_0001_sync/image_02/data/0000000099.png',\n",
       " '2011_09_26/2011_09_26_drive_0001_sync/image_02/data/0000000032.png',\n",
       " '2011_09_26/2011_09_26_drive_0001_sync/image_02/data/0000000001.png',\n",
       " '2011_09_26/2011_09_26_drive_0001_sync/image_02/data/0000000052.png',\n",
       " '2011_09_26/2011_09_26_drive_0001_sync/image_02/data/0000000040.png',\n",
       " '2011_09_26/2011_09_26_drive_0001_sync/image_02/data/0000000064.png',\n",
       " '2011_09_26/2011_09_26_drive_0001_sync/image_02/data/0000000073.png',\n",
       " '2011_09_26/2011_09_26_drive_0001_sync/image_02/data/0000000011.png',\n",
       " '2011_09_26/2011_09_26_drive_0001_sync/image_02/data/0000000004.png',\n",
       " '2011_09_26/2011_09_26_drive_0001_sync/image_02/data/0000000020.png',\n",
       " '2011_09_26/2011_09_26_drive_0001_sync/image_02/data/0000000000.png',\n",
       " '2011_09_26/2011_09_26_drive_0001_sync/image_02/data/0000000101.png',\n",
       " '2011_09_26/2011_09_26_drive_0001_sync/image_02/data/0000000002.png',\n",
       " '2011_09_26/2011_09_26_drive_0001_sync/image_02/data/0000000086.png',\n",
       " '2011_09_26/2011_09_26_drive_0001_sync/image_02/data/0000000054.png',\n",
       " '2011_09_26/2011_09_26_drive_0001_sync/image_02/data/0000000053.png',\n",
       " '2011_09_26/2011_09_26_drive_0001_sync/image_02/data/0000000093.png',\n",
       " '2011_09_26/2011_09_26_drive_0001_sync/image_02/data/0000000025.png',\n",
       " '2011_09_26/2011_09_26_drive_0001_sync/image_02/data/0000000107.png',\n",
       " '2011_09_26/2011_09_26_drive_0001_sync/image_02/data/0000000079.png',\n",
       " '2011_09_26/2011_09_26_drive_0001_sync/image_02/data/0000000074.png',\n",
       " '2011_09_26/2011_09_26_drive_0001_sync/image_02/data/0000000089.png',\n",
       " '2011_09_26/2011_09_26_drive_0001_sync/image_02/data/0000000024.png',\n",
       " '2011_09_26/2011_09_26_drive_0001_sync/image_02/data/0000000103.png',\n",
       " '2011_09_26/2011_09_26_drive_0001_sync/image_02/data/0000000100.png',\n",
       " '2011_09_26/2011_09_26_drive_0001_sync/image_02/data/0000000067.png',\n",
       " '2011_09_26/2011_09_26_drive_0001_sync/image_02/data/0000000030.png',\n",
       " '2011_09_26/2011_09_26_drive_0001_sync/image_02/data/0000000094.png',\n",
       " '2011_09_26/2011_09_26_drive_0001_sync/image_02/data/0000000069.png',\n",
       " '2011_09_26/2011_09_26_drive_0001_sync/image_02/data/0000000028.png',\n",
       " '2011_09_26/2011_09_26_drive_0001_sync/image_02/data/0000000003.png',\n",
       " '2011_09_26/2011_09_26_drive_0001_sync/image_02/data/0000000104.png',\n",
       " '2011_09_26/2011_09_26_drive_0001_sync/image_02/data/0000000049.png',\n",
       " '2011_09_26/2011_09_26_drive_0001_sync/image_02/data/0000000068.png',\n",
       " '2011_09_26/2011_09_26_drive_0001_sync/image_02/data/0000000016.png',\n",
       " '2011_09_26/2011_09_26_drive_0001_sync/image_02/data/0000000105.png',\n",
       " '2011_09_26/2011_09_26_drive_0001_sync/image_02/data/0000000072.png',\n",
       " '2011_09_26/2011_09_26_drive_0001_sync/image_02/data/0000000091.png',\n",
       " '2011_09_26/2011_09_26_drive_0001_sync/image_02/data/0000000059.png',\n",
       " '2011_09_26/2011_09_26_drive_0001_sync/image_02/data/0000000082.png',\n",
       " '2011_09_26/2011_09_26_drive_0001_sync/image_02/data/0000000070.png',\n",
       " '2011_09_26/2011_09_26_drive_0001_sync/image_02/data/0000000066.png',\n",
       " '2011_09_26/2011_09_26_drive_0001_sync/image_02/data/0000000006.png',\n",
       " '2011_09_26/2011_09_26_drive_0001_sync/image_02/data/0000000021.png',\n",
       " '2011_09_26/2011_09_26_drive_0001_sync/image_02/data/0000000047.png',\n",
       " '2011_09_26/2011_09_26_drive_0001_sync/image_02/data/0000000061.png',\n",
       " '2011_09_26/2011_09_26_drive_0001_sync/image_02/data/0000000042.png',\n",
       " '2011_09_26/2011_09_26_drive_0001_sync/image_02/data/0000000102.png',\n",
       " '2011_09_26/2011_09_26_drive_0001_sync/image_02/data/0000000015.png',\n",
       " '2011_09_26/2011_09_26_drive_0001_sync/image_02/data/0000000077.png',\n",
       " '2011_09_26/2011_09_26_drive_0001_sync/image_02/data/0000000026.png',\n",
       " '2011_09_26/2011_09_26_drive_0001_sync/image_02/data/0000000083.png',\n",
       " '2011_09_26/2011_09_26_drive_0001_sync/image_02/data/0000000060.png',\n",
       " '2011_09_26/2011_09_26_drive_0001_sync/image_02/data/0000000013.png',\n",
       " '2011_09_26/2011_09_26_drive_0001_sync/image_02/data/0000000081.png',\n",
       " '2011_09_26/2011_09_26_drive_0001_sync/image_02/data/0000000012.png',\n",
       " '2011_09_26/2011_09_26_drive_0001_sync/image_02/data/0000000031.png',\n",
       " '2011_09_26/2011_09_26_drive_0001_sync/image_02/data/0000000075.png',\n",
       " '2011_09_26/2011_09_26_drive_0001_sync/image_02/data/0000000034.png',\n",
       " '2011_09_26/2011_09_26_drive_0001_sync/image_02/data/0000000095.png',\n",
       " '2011_09_26/2011_09_26_drive_0001_sync/image_02/data/0000000092.png',\n",
       " '2011_09_26/2011_09_26_drive_0001_sync/image_02/data/0000000065.png',\n",
       " '2011_09_26/2011_09_26_drive_0001_sync/image_02/data/0000000033.png',\n",
       " '2011_09_26/2011_09_26_drive_0001_sync/image_02/data/0000000035.png',\n",
       " '2011_09_26/2011_09_26_drive_0001_sync/image_02/data/0000000037.png',\n",
       " '2011_09_26/2011_09_26_drive_0001_sync/image_03/',\n",
       " '2011_09_26/2011_09_26_drive_0001_sync/image_03/timestamps.txt',\n",
       " '2011_09_26/2011_09_26_drive_0001_sync/image_03/data/',\n",
       " '2011_09_26/2011_09_26_drive_0001_sync/image_03/data/0000000008.png',\n",
       " '2011_09_26/2011_09_26_drive_0001_sync/image_03/data/0000000027.png',\n",
       " '2011_09_26/2011_09_26_drive_0001_sync/image_03/data/0000000063.png',\n",
       " '2011_09_26/2011_09_26_drive_0001_sync/image_03/data/0000000058.png',\n",
       " '2011_09_26/2011_09_26_drive_0001_sync/image_03/data/0000000036.png',\n",
       " '2011_09_26/2011_09_26_drive_0001_sync/image_03/data/0000000022.png',\n",
       " '2011_09_26/2011_09_26_drive_0001_sync/image_03/data/0000000044.png',\n",
       " '2011_09_26/2011_09_26_drive_0001_sync/image_03/data/0000000088.png',\n",
       " '2011_09_26/2011_09_26_drive_0001_sync/image_03/data/0000000007.png',\n",
       " '2011_09_26/2011_09_26_drive_0001_sync/image_03/data/0000000050.png',\n",
       " '2011_09_26/2011_09_26_drive_0001_sync/image_03/data/0000000087.png',\n",
       " '2011_09_26/2011_09_26_drive_0001_sync/image_03/data/0000000039.png',\n",
       " '2011_09_26/2011_09_26_drive_0001_sync/image_03/data/0000000038.png',\n",
       " '2011_09_26/2011_09_26_drive_0001_sync/image_03/data/0000000097.png',\n",
       " '2011_09_26/2011_09_26_drive_0001_sync/image_03/data/0000000023.png',\n",
       " '2011_09_26/2011_09_26_drive_0001_sync/image_03/data/0000000019.png',\n",
       " '2011_09_26/2011_09_26_drive_0001_sync/image_03/data/0000000041.png',\n",
       " '2011_09_26/2011_09_26_drive_0001_sync/image_03/data/0000000090.png',\n",
       " '2011_09_26/2011_09_26_drive_0001_sync/image_03/data/0000000062.png',\n",
       " '2011_09_26/2011_09_26_drive_0001_sync/image_03/data/0000000017.png',\n",
       " '2011_09_26/2011_09_26_drive_0001_sync/image_03/data/0000000084.png',\n",
       " '2011_09_26/2011_09_26_drive_0001_sync/image_03/data/0000000014.png',\n",
       " '2011_09_26/2011_09_26_drive_0001_sync/image_03/data/0000000005.png',\n",
       " '2011_09_26/2011_09_26_drive_0001_sync/image_03/data/0000000056.png',\n",
       " '2011_09_26/2011_09_26_drive_0001_sync/image_03/data/0000000057.png',\n",
       " '2011_09_26/2011_09_26_drive_0001_sync/image_03/data/0000000018.png',\n",
       " '2011_09_26/2011_09_26_drive_0001_sync/image_03/data/0000000009.png',\n",
       " '2011_09_26/2011_09_26_drive_0001_sync/image_03/data/0000000096.png',\n",
       " '2011_09_26/2011_09_26_drive_0001_sync/image_03/data/0000000051.png',\n",
       " '2011_09_26/2011_09_26_drive_0001_sync/image_03/data/0000000029.png',\n",
       " '2011_09_26/2011_09_26_drive_0001_sync/image_03/data/0000000106.png',\n",
       " '2011_09_26/2011_09_26_drive_0001_sync/image_03/data/0000000046.png',\n",
       " '2011_09_26/2011_09_26_drive_0001_sync/image_03/data/0000000098.png',\n",
       " '2011_09_26/2011_09_26_drive_0001_sync/image_03/data/0000000071.png',\n",
       " '2011_09_26/2011_09_26_drive_0001_sync/image_03/data/0000000076.png',\n",
       " '2011_09_26/2011_09_26_drive_0001_sync/image_03/data/0000000048.png',\n",
       " '2011_09_26/2011_09_26_drive_0001_sync/image_03/data/0000000080.png',\n",
       " '2011_09_26/2011_09_26_drive_0001_sync/image_03/data/0000000043.png',\n",
       " '2011_09_26/2011_09_26_drive_0001_sync/image_03/data/0000000078.png',\n",
       " '2011_09_26/2011_09_26_drive_0001_sync/image_03/data/0000000010.png',\n",
       " '2011_09_26/2011_09_26_drive_0001_sync/image_03/data/0000000045.png',\n",
       " '2011_09_26/2011_09_26_drive_0001_sync/image_03/data/0000000055.png',\n",
       " '2011_09_26/2011_09_26_drive_0001_sync/image_03/data/0000000085.png',\n",
       " '2011_09_26/2011_09_26_drive_0001_sync/image_03/data/0000000099.png',\n",
       " '2011_09_26/2011_09_26_drive_0001_sync/image_03/data/0000000032.png',\n",
       " '2011_09_26/2011_09_26_drive_0001_sync/image_03/data/0000000001.png',\n",
       " '2011_09_26/2011_09_26_drive_0001_sync/image_03/data/0000000052.png',\n",
       " '2011_09_26/2011_09_26_drive_0001_sync/image_03/data/0000000040.png',\n",
       " '2011_09_26/2011_09_26_drive_0001_sync/image_03/data/0000000064.png',\n",
       " '2011_09_26/2011_09_26_drive_0001_sync/image_03/data/0000000073.png',\n",
       " '2011_09_26/2011_09_26_drive_0001_sync/image_03/data/0000000011.png',\n",
       " '2011_09_26/2011_09_26_drive_0001_sync/image_03/data/0000000004.png',\n",
       " '2011_09_26/2011_09_26_drive_0001_sync/image_03/data/0000000020.png',\n",
       " '2011_09_26/2011_09_26_drive_0001_sync/image_03/data/0000000000.png',\n",
       " '2011_09_26/2011_09_26_drive_0001_sync/image_03/data/0000000101.png',\n",
       " '2011_09_26/2011_09_26_drive_0001_sync/image_03/data/0000000002.png',\n",
       " '2011_09_26/2011_09_26_drive_0001_sync/image_03/data/0000000086.png',\n",
       " '2011_09_26/2011_09_26_drive_0001_sync/image_03/data/0000000054.png',\n",
       " '2011_09_26/2011_09_26_drive_0001_sync/image_03/data/0000000053.png',\n",
       " '2011_09_26/2011_09_26_drive_0001_sync/image_03/data/0000000093.png',\n",
       " '2011_09_26/2011_09_26_drive_0001_sync/image_03/data/0000000025.png',\n",
       " '2011_09_26/2011_09_26_drive_0001_sync/image_03/data/0000000107.png',\n",
       " '2011_09_26/2011_09_26_drive_0001_sync/image_03/data/0000000079.png',\n",
       " '2011_09_26/2011_09_26_drive_0001_sync/image_03/data/0000000074.png',\n",
       " '2011_09_26/2011_09_26_drive_0001_sync/image_03/data/0000000089.png',\n",
       " '2011_09_26/2011_09_26_drive_0001_sync/image_03/data/0000000024.png',\n",
       " '2011_09_26/2011_09_26_drive_0001_sync/image_03/data/0000000103.png',\n",
       " '2011_09_26/2011_09_26_drive_0001_sync/image_03/data/0000000100.png',\n",
       " '2011_09_26/2011_09_26_drive_0001_sync/image_03/data/0000000067.png',\n",
       " '2011_09_26/2011_09_26_drive_0001_sync/image_03/data/0000000030.png',\n",
       " '2011_09_26/2011_09_26_drive_0001_sync/image_03/data/0000000094.png',\n",
       " '2011_09_26/2011_09_26_drive_0001_sync/image_03/data/0000000069.png',\n",
       " '2011_09_26/2011_09_26_drive_0001_sync/image_03/data/0000000028.png',\n",
       " '2011_09_26/2011_09_26_drive_0001_sync/image_03/data/0000000003.png',\n",
       " '2011_09_26/2011_09_26_drive_0001_sync/image_03/data/0000000104.png',\n",
       " '2011_09_26/2011_09_26_drive_0001_sync/image_03/data/0000000049.png',\n",
       " '2011_09_26/2011_09_26_drive_0001_sync/image_03/data/0000000068.png',\n",
       " '2011_09_26/2011_09_26_drive_0001_sync/image_03/data/0000000016.png',\n",
       " '2011_09_26/2011_09_26_drive_0001_sync/image_03/data/0000000105.png',\n",
       " '2011_09_26/2011_09_26_drive_0001_sync/image_03/data/0000000072.png',\n",
       " '2011_09_26/2011_09_26_drive_0001_sync/image_03/data/0000000091.png',\n",
       " '2011_09_26/2011_09_26_drive_0001_sync/image_03/data/0000000059.png',\n",
       " '2011_09_26/2011_09_26_drive_0001_sync/image_03/data/0000000082.png',\n",
       " '2011_09_26/2011_09_26_drive_0001_sync/image_03/data/0000000070.png',\n",
       " '2011_09_26/2011_09_26_drive_0001_sync/image_03/data/0000000066.png',\n",
       " '2011_09_26/2011_09_26_drive_0001_sync/image_03/data/0000000006.png',\n",
       " '2011_09_26/2011_09_26_drive_0001_sync/image_03/data/0000000021.png',\n",
       " '2011_09_26/2011_09_26_drive_0001_sync/image_03/data/0000000047.png',\n",
       " '2011_09_26/2011_09_26_drive_0001_sync/image_03/data/0000000061.png',\n",
       " '2011_09_26/2011_09_26_drive_0001_sync/image_03/data/0000000042.png',\n",
       " '2011_09_26/2011_09_26_drive_0001_sync/image_03/data/0000000102.png',\n",
       " '2011_09_26/2011_09_26_drive_0001_sync/image_03/data/0000000015.png',\n",
       " '2011_09_26/2011_09_26_drive_0001_sync/image_03/data/0000000077.png',\n",
       " '2011_09_26/2011_09_26_drive_0001_sync/image_03/data/0000000026.png',\n",
       " '2011_09_26/2011_09_26_drive_0001_sync/image_03/data/0000000083.png',\n",
       " '2011_09_26/2011_09_26_drive_0001_sync/image_03/data/0000000060.png',\n",
       " '2011_09_26/2011_09_26_drive_0001_sync/image_03/data/0000000013.png',\n",
       " '2011_09_26/2011_09_26_drive_0001_sync/image_03/data/0000000081.png',\n",
       " '2011_09_26/2011_09_26_drive_0001_sync/image_03/data/0000000012.png',\n",
       " '2011_09_26/2011_09_26_drive_0001_sync/image_03/data/0000000031.png',\n",
       " '2011_09_26/2011_09_26_drive_0001_sync/image_03/data/0000000075.png',\n",
       " '2011_09_26/2011_09_26_drive_0001_sync/image_03/data/0000000034.png',\n",
       " '2011_09_26/2011_09_26_drive_0001_sync/image_03/data/0000000095.png',\n",
       " '2011_09_26/2011_09_26_drive_0001_sync/image_03/data/0000000092.png',\n",
       " '2011_09_26/2011_09_26_drive_0001_sync/image_03/data/0000000065.png',\n",
       " '2011_09_26/2011_09_26_drive_0001_sync/image_03/data/0000000033.png',\n",
       " '2011_09_26/2011_09_26_drive_0001_sync/image_03/data/0000000035.png',\n",
       " '2011_09_26/2011_09_26_drive_0001_sync/image_03/data/0000000037.png',\n",
       " '2011_09_26/2011_09_26_drive_0001_sync/velodyne_points/',\n",
       " '2011_09_26/2011_09_26_drive_0001_sync/velodyne_points/timestamps.txt',\n",
       " '2011_09_26/2011_09_26_drive_0001_sync/velodyne_points/data/',\n",
       " '2011_09_26/2011_09_26_drive_0001_sync/velodyne_points/data/0000000071.bin',\n",
       " '2011_09_26/2011_09_26_drive_0001_sync/velodyne_points/data/0000000004.bin',\n",
       " '2011_09_26/2011_09_26_drive_0001_sync/velodyne_points/data/0000000011.bin',\n",
       " '2011_09_26/2011_09_26_drive_0001_sync/velodyne_points/data/0000000091.bin',\n",
       " '2011_09_26/2011_09_26_drive_0001_sync/velodyne_points/data/0000000031.bin',\n",
       " '2011_09_26/2011_09_26_drive_0001_sync/velodyne_points/data/0000000003.bin',\n",
       " '2011_09_26/2011_09_26_drive_0001_sync/velodyne_points/data/0000000014.bin',\n",
       " '2011_09_26/2011_09_26_drive_0001_sync/velodyne_points/data/0000000081.bin',\n",
       " '2011_09_26/2011_09_26_drive_0001_sync/velodyne_points/data/0000000048.bin',\n",
       " '2011_09_26/2011_09_26_drive_0001_sync/velodyne_points/data/0000000083.bin',\n",
       " '2011_09_26/2011_09_26_drive_0001_sync/velodyne_points/data/0000000096.bin',\n",
       " '2011_09_26/2011_09_26_drive_0001_sync/velodyne_points/data/0000000074.bin',\n",
       " '2011_09_26/2011_09_26_drive_0001_sync/velodyne_points/data/0000000089.bin',\n",
       " '2011_09_26/2011_09_26_drive_0001_sync/velodyne_points/data/0000000047.bin',\n",
       " '2011_09_26/2011_09_26_drive_0001_sync/velodyne_points/data/0000000025.bin',\n",
       " '2011_09_26/2011_09_26_drive_0001_sync/velodyne_points/data/0000000030.bin',\n",
       " '2011_09_26/2011_09_26_drive_0001_sync/velodyne_points/data/0000000072.bin',\n",
       " '2011_09_26/2011_09_26_drive_0001_sync/velodyne_points/data/0000000052.bin',\n",
       " '2011_09_26/2011_09_26_drive_0001_sync/velodyne_points/data/0000000098.bin',\n",
       " '2011_09_26/2011_09_26_drive_0001_sync/velodyne_points/data/0000000055.bin',\n",
       " '2011_09_26/2011_09_26_drive_0001_sync/velodyne_points/data/0000000038.bin',\n",
       " '2011_09_26/2011_09_26_drive_0001_sync/velodyne_points/data/0000000046.bin',\n",
       " '2011_09_26/2011_09_26_drive_0001_sync/velodyne_points/data/0000000037.bin',\n",
       " '2011_09_26/2011_09_26_drive_0001_sync/velodyne_points/data/0000000065.bin',\n",
       " '2011_09_26/2011_09_26_drive_0001_sync/velodyne_points/data/0000000049.bin',\n",
       " '2011_09_26/2011_09_26_drive_0001_sync/velodyne_points/data/0000000069.bin',\n",
       " '2011_09_26/2011_09_26_drive_0001_sync/velodyne_points/data/0000000002.bin',\n",
       " '2011_09_26/2011_09_26_drive_0001_sync/velodyne_points/data/0000000050.bin',\n",
       " '2011_09_26/2011_09_26_drive_0001_sync/velodyne_points/data/0000000022.bin',\n",
       " '2011_09_26/2011_09_26_drive_0001_sync/velodyne_points/data/0000000045.bin',\n",
       " '2011_09_26/2011_09_26_drive_0001_sync/velodyne_points/data/0000000057.bin',\n",
       " '2011_09_26/2011_09_26_drive_0001_sync/velodyne_points/data/0000000073.bin',\n",
       " '2011_09_26/2011_09_26_drive_0001_sync/velodyne_points/data/0000000082.bin',\n",
       " '2011_09_26/2011_09_26_drive_0001_sync/velodyne_points/data/0000000026.bin',\n",
       " '2011_09_26/2011_09_26_drive_0001_sync/velodyne_points/data/0000000075.bin',\n",
       " '2011_09_26/2011_09_26_drive_0001_sync/velodyne_points/data/0000000042.bin',\n",
       " '2011_09_26/2011_09_26_drive_0001_sync/velodyne_points/data/0000000018.bin',\n",
       " '2011_09_26/2011_09_26_drive_0001_sync/velodyne_points/data/0000000028.bin',\n",
       " '2011_09_26/2011_09_26_drive_0001_sync/velodyne_points/data/0000000008.bin',\n",
       " '2011_09_26/2011_09_26_drive_0001_sync/velodyne_points/data/0000000044.bin',\n",
       " '2011_09_26/2011_09_26_drive_0001_sync/velodyne_points/data/0000000092.bin',\n",
       " '2011_09_26/2011_09_26_drive_0001_sync/velodyne_points/data/0000000027.bin',\n",
       " '2011_09_26/2011_09_26_drive_0001_sync/velodyne_points/data/0000000051.bin',\n",
       " '2011_09_26/2011_09_26_drive_0001_sync/velodyne_points/data/0000000036.bin',\n",
       " '2011_09_26/2011_09_26_drive_0001_sync/velodyne_points/data/0000000101.bin',\n",
       " '2011_09_26/2011_09_26_drive_0001_sync/velodyne_points/data/0000000013.bin',\n",
       " '2011_09_26/2011_09_26_drive_0001_sync/velodyne_points/data/0000000041.bin',\n",
       " '2011_09_26/2011_09_26_drive_0001_sync/velodyne_points/data/0000000105.bin',\n",
       " '2011_09_26/2011_09_26_drive_0001_sync/velodyne_points/data/0000000007.bin',\n",
       " '2011_09_26/2011_09_26_drive_0001_sync/velodyne_points/data/0000000086.bin',\n",
       " '2011_09_26/2011_09_26_drive_0001_sync/velodyne_points/data/0000000056.bin',\n",
       " '2011_09_26/2011_09_26_drive_0001_sync/velodyne_points/data/0000000006.bin',\n",
       " '2011_09_26/2011_09_26_drive_0001_sync/velodyne_points/data/0000000032.bin',\n",
       " '2011_09_26/2011_09_26_drive_0001_sync/velodyne_points/data/0000000104.bin',\n",
       " '2011_09_26/2011_09_26_drive_0001_sync/velodyne_points/data/0000000103.bin',\n",
       " '2011_09_26/2011_09_26_drive_0001_sync/velodyne_points/data/0000000064.bin',\n",
       " '2011_09_26/2011_09_26_drive_0001_sync/velodyne_points/data/0000000019.bin',\n",
       " '2011_09_26/2011_09_26_drive_0001_sync/velodyne_points/data/0000000015.bin',\n",
       " '2011_09_26/2011_09_26_drive_0001_sync/velodyne_points/data/0000000020.bin',\n",
       " '2011_09_26/2011_09_26_drive_0001_sync/velodyne_points/data/0000000062.bin',\n",
       " '2011_09_26/2011_09_26_drive_0001_sync/velodyne_points/data/0000000043.bin',\n",
       " '2011_09_26/2011_09_26_drive_0001_sync/velodyne_points/data/0000000076.bin',\n",
       " '2011_09_26/2011_09_26_drive_0001_sync/velodyne_points/data/0000000017.bin',\n",
       " '2011_09_26/2011_09_26_drive_0001_sync/velodyne_points/data/0000000005.bin',\n",
       " '2011_09_26/2011_09_26_drive_0001_sync/velodyne_points/data/0000000078.bin',\n",
       " '2011_09_26/2011_09_26_drive_0001_sync/velodyne_points/data/0000000000.bin',\n",
       " '2011_09_26/2011_09_26_drive_0001_sync/velodyne_points/data/0000000029.bin',\n",
       " '2011_09_26/2011_09_26_drive_0001_sync/velodyne_points/data/0000000080.bin',\n",
       " '2011_09_26/2011_09_26_drive_0001_sync/velodyne_points/data/0000000090.bin',\n",
       " '2011_09_26/2011_09_26_drive_0001_sync/velodyne_points/data/0000000054.bin',\n",
       " '2011_09_26/2011_09_26_drive_0001_sync/velodyne_points/data/0000000034.bin',\n",
       " '2011_09_26/2011_09_26_drive_0001_sync/velodyne_points/data/0000000060.bin',\n",
       " '2011_09_26/2011_09_26_drive_0001_sync/velodyne_points/data/0000000023.bin',\n",
       " '2011_09_26/2011_09_26_drive_0001_sync/velodyne_points/data/0000000087.bin',\n",
       " '2011_09_26/2011_09_26_drive_0001_sync/velodyne_points/data/0000000099.bin',\n",
       " '2011_09_26/2011_09_26_drive_0001_sync/velodyne_points/data/0000000039.bin',\n",
       " '2011_09_26/2011_09_26_drive_0001_sync/velodyne_points/data/0000000102.bin',\n",
       " '2011_09_26/2011_09_26_drive_0001_sync/velodyne_points/data/0000000040.bin',\n",
       " '2011_09_26/2011_09_26_drive_0001_sync/velodyne_points/data/0000000068.bin',\n",
       " '2011_09_26/2011_09_26_drive_0001_sync/velodyne_points/data/0000000084.bin',\n",
       " '2011_09_26/2011_09_26_drive_0001_sync/velodyne_points/data/0000000085.bin',\n",
       " '2011_09_26/2011_09_26_drive_0001_sync/velodyne_points/data/0000000058.bin',\n",
       " '2011_09_26/2011_09_26_drive_0001_sync/velodyne_points/data/0000000035.bin',\n",
       " '2011_09_26/2011_09_26_drive_0001_sync/velodyne_points/data/0000000070.bin',\n",
       " '2011_09_26/2011_09_26_drive_0001_sync/velodyne_points/data/0000000093.bin',\n",
       " '2011_09_26/2011_09_26_drive_0001_sync/velodyne_points/data/0000000063.bin',\n",
       " '2011_09_26/2011_09_26_drive_0001_sync/velodyne_points/data/0000000053.bin',\n",
       " '2011_09_26/2011_09_26_drive_0001_sync/velodyne_points/data/0000000066.bin',\n",
       " '2011_09_26/2011_09_26_drive_0001_sync/velodyne_points/data/0000000088.bin',\n",
       " '2011_09_26/2011_09_26_drive_0001_sync/velodyne_points/data/0000000077.bin',\n",
       " '2011_09_26/2011_09_26_drive_0001_sync/velodyne_points/data/0000000001.bin',\n",
       " '2011_09_26/2011_09_26_drive_0001_sync/velodyne_points/data/0000000009.bin',\n",
       " '2011_09_26/2011_09_26_drive_0001_sync/velodyne_points/data/0000000033.bin',\n",
       " '2011_09_26/2011_09_26_drive_0001_sync/velodyne_points/data/0000000107.bin',\n",
       " '2011_09_26/2011_09_26_drive_0001_sync/velodyne_points/data/0000000024.bin',\n",
       " '2011_09_26/2011_09_26_drive_0001_sync/velodyne_points/data/0000000010.bin',\n",
       " '2011_09_26/2011_09_26_drive_0001_sync/velodyne_points/data/0000000100.bin',\n",
       " '2011_09_26/2011_09_26_drive_0001_sync/velodyne_points/data/0000000097.bin',\n",
       " '2011_09_26/2011_09_26_drive_0001_sync/velodyne_points/data/0000000021.bin',\n",
       " '2011_09_26/2011_09_26_drive_0001_sync/velodyne_points/data/0000000012.bin',\n",
       " '2011_09_26/2011_09_26_drive_0001_sync/velodyne_points/data/0000000106.bin',\n",
       " '2011_09_26/2011_09_26_drive_0001_sync/velodyne_points/data/0000000059.bin',\n",
       " '2011_09_26/2011_09_26_drive_0001_sync/velodyne_points/data/0000000079.bin',\n",
       " '2011_09_26/2011_09_26_drive_0001_sync/velodyne_points/data/0000000016.bin',\n",
       " '2011_09_26/2011_09_26_drive_0001_sync/velodyne_points/data/0000000067.bin',\n",
       " '2011_09_26/2011_09_26_drive_0001_sync/velodyne_points/data/0000000061.bin',\n",
       " '2011_09_26/2011_09_26_drive_0001_sync/velodyne_points/data/0000000094.bin',\n",
       " '2011_09_26/2011_09_26_drive_0001_sync/velodyne_points/data/0000000095.bin',\n",
       " '2011_09_26/2011_09_26_drive_0001_sync/velodyne_points/timestamps_start.txt',\n",
       " '2011_09_26/2011_09_26_drive_0001_sync/velodyne_points/timestamps_end.txt']"
      ]
     },
     "execution_count": 24,
     "metadata": {},
     "output_type": "execute_result"
    }
   ],
   "source": [
    "a\n"
   ]
  },
  {
   "cell_type": "code",
   "execution_count": 25,
   "metadata": {},
   "outputs": [
    {
     "data": {
      "text/plain": [
       "'2011_09_26/2011_09_26_drive_0001_sync/oxts/data/0000000062.txt'"
      ]
     },
     "execution_count": 25,
     "metadata": {},
     "output_type": "execute_result"
    }
   ],
   "source": [
    "a[7]"
   ]
  },
  {
   "cell_type": "code",
   "execution_count": 26,
   "metadata": {},
   "outputs": [],
   "source": [
    "c=a[7]"
   ]
  },
  {
   "cell_type": "code",
   "execution_count": 59,
   "metadata": {},
   "outputs": [],
   "source": [
    "from PIL import Image\n",
    "img=np.array(Image.open('/home/lidong/Documents/datasets/single_driver/data_depth_annotated/train/2011_09_28_drive_0094_sync/proj_depth/groundtruth/image_02/0000000005.png'),dtype=int)"
   ]
  },
  {
   "cell_type": "code",
   "execution_count": 40,
   "metadata": {},
   "outputs": [],
   "source": [
    "os.mkdir('/home/lidong/Documents/datasets/single_driver/data_depth_annotated/train/2011_09_28_drive_0082_sync/proj_depth/images/')"
   ]
  },
  {
   "cell_type": "code",
   "execution_count": 41,
   "metadata": {},
   "outputs": [],
   "source": [
    "import cv2\n",
    "a=cv2.imread('/home/lidong/Documents/datasets/single_driver/data_depth_annotated/train/2011_09_28_drive_0094_sync/proj_depth/groundtruth/image_02/0000000005.png')"
   ]
  },
  {
   "cell_type": "code",
   "execution_count": 47,
   "metadata": {},
   "outputs": [
    {
     "data": {
      "text/plain": [
       "18594"
      ]
     },
     "execution_count": 47,
     "metadata": {},
     "output_type": "execute_result"
    }
   ],
   "source": [
    "np.max(img)"
   ]
  },
  {
   "cell_type": "code",
   "execution_count": 43,
   "metadata": {},
   "outputs": [
    {
     "ename": "AttributeError",
     "evalue": "'numpy.ndarray' object has no attribute 'type'",
     "output_type": "error",
     "traceback": [
      "\u001b[0;31m---------------------------------------------------------------------------\u001b[0m",
      "\u001b[0;31mAttributeError\u001b[0m                            Traceback (most recent call last)",
      "\u001b[0;32m<ipython-input-43-7d06ba0dc95b>\u001b[0m in \u001b[0;36m<module>\u001b[0;34m()\u001b[0m\n\u001b[0;32m----> 1\u001b[0;31m \u001b[0ma\u001b[0m\u001b[0;34m.\u001b[0m\u001b[0mtype\u001b[0m\u001b[0;34m\u001b[0m\u001b[0m\n\u001b[0m",
      "\u001b[0;31mAttributeError\u001b[0m: 'numpy.ndarray' object has no attribute 'type'"
     ]
    }
   ],
   "source": [
    "a.type"
   ]
  },
  {
   "cell_type": "code",
   "execution_count": 44,
   "metadata": {},
   "outputs": [
    {
     "data": {
      "text/plain": [
       "72"
      ]
     },
     "execution_count": 44,
     "metadata": {},
     "output_type": "execute_result"
    }
   ],
   "source": [
    "np.max(a)\n"
   ]
  },
  {
   "cell_type": "code",
   "execution_count": 48,
   "metadata": {},
   "outputs": [],
   "source": [
    "img=img.astype(np.float)/256"
   ]
  },
  {
   "cell_type": "code",
   "execution_count": 50,
   "metadata": {},
   "outputs": [
    {
     "data": {
      "text/plain": [
       "72.6328125"
      ]
     },
     "execution_count": 50,
     "metadata": {},
     "output_type": "execute_result"
    }
   ],
   "source": [
    "np.max(img)"
   ]
  },
  {
   "cell_type": "code",
   "execution_count": 51,
   "metadata": {},
   "outputs": [
    {
     "ename": "AttributeError",
     "evalue": "module 'numpy' has no attribute 'list'",
     "output_type": "error",
     "traceback": [
      "\u001b[0;31m---------------------------------------------------------------------------\u001b[0m",
      "\u001b[0;31mAttributeError\u001b[0m                            Traceback (most recent call last)",
      "\u001b[0;32m<ipython-input-51-d96271e1bf14>\u001b[0m in \u001b[0;36m<module>\u001b[0;34m()\u001b[0m\n\u001b[0;32m----> 1\u001b[0;31m \u001b[0mnp\u001b[0m\u001b[0;34m.\u001b[0m\u001b[0mlist\u001b[0m\u001b[0;34m(\u001b[0m\u001b[0mimg\u001b[0m\u001b[0;34m)\u001b[0m\u001b[0;34m\u001b[0m\u001b[0m\n\u001b[0m",
      "\u001b[0;31mAttributeError\u001b[0m: module 'numpy' has no attribute 'list'"
     ]
    }
   ],
   "source": [
    "np.list(img)"
   ]
  },
  {
   "cell_type": "code",
   "execution_count": 53,
   "metadata": {},
   "outputs": [
    {
     "ename": "ValueError",
     "evalue": "object too deep for desired array",
     "output_type": "error",
     "traceback": [
      "\u001b[0;31m---------------------------------------------------------------------------\u001b[0m",
      "\u001b[0;31mValueError\u001b[0m                                Traceback (most recent call last)",
      "\u001b[0;32m<ipython-input-53-0ec04084b7da>\u001b[0m in \u001b[0;36m<module>\u001b[0;34m()\u001b[0m\n\u001b[0;32m----> 1\u001b[0;31m \u001b[0mb\u001b[0m\u001b[0;34m=\u001b[0m\u001b[0mnp\u001b[0m\u001b[0;34m.\u001b[0m\u001b[0mbincount\u001b[0m\u001b[0;34m(\u001b[0m\u001b[0mimg\u001b[0m\u001b[0;34m)\u001b[0m\u001b[0;34m\u001b[0m\u001b[0m\n\u001b[0m",
      "\u001b[0;31mValueError\u001b[0m: object too deep for desired array"
     ]
    }
   ],
   "source": [
    "b=np.bincount(img)"
   ]
  },
  {
   "cell_type": "code",
   "execution_count": 73,
   "metadata": {},
   "outputs": [],
   "source": [
    "from PIL import Image\n",
    "img=np.array(Image.open('/home/lidong/Documents/datasets/single_driver/data_depth_annotated/train/2011_09_28_drive_0094_sync/proj_depth/groundtruth/image_02/0000000005.png'),dtype=int)\n",
    "c=[np.max(img)]\n",
    "for i in range(int(c[0])):\n",
    "    c.append(np.max(img))\n",
    "    img=np.where(img==np.max(img),0,img)"
   ]
  },
  {
   "cell_type": "code",
   "execution_count": 74,
   "metadata": {},
   "outputs": [
    {
     "data": {
      "text/plain": [
       "0"
      ]
     },
     "execution_count": 74,
     "metadata": {},
     "output_type": "execute_result"
    }
   ],
   "source": [
    "np.max(img)"
   ]
  },
  {
   "cell_type": "code",
   "execution_count": 66,
   "metadata": {},
   "outputs": [
    {
     "data": {
      "text/plain": [
       "1"
      ]
     },
     "execution_count": 66,
     "metadata": {},
     "output_type": "execute_result"
    }
   ],
   "source": [
    "len(c)"
   ]
  },
  {
   "cell_type": "code",
   "execution_count": 67,
   "metadata": {},
   "outputs": [
    {
     "data": {
      "text/plain": [
       "[0]"
      ]
     },
     "execution_count": 67,
     "metadata": {},
     "output_type": "execute_result"
    }
   ],
   "source": [
    "c\n"
   ]
  },
  {
   "cell_type": "code",
   "execution_count": 70,
   "metadata": {},
   "outputs": [
    {
     "data": {
      "text/plain": [
       "[0]"
      ]
     },
     "execution_count": 70,
     "metadata": {},
     "output_type": "execute_result"
    }
   ],
   "source": [
    "c\n"
   ]
  },
  {
   "cell_type": "code",
   "execution_count": 91,
   "metadata": {},
   "outputs": [],
   "source": [
    "from PIL import Image\n",
    "img=np.array(Image.open('/home/lidong/Documents/datasets/single_driver/data_depth_annotated/train/2011_09_28_drive_0094_sync/proj_depth/groundtruth/image_02/0000000005.png'),dtype=int)\n",
    "c=[]\n",
    "while(np.max(img)>0):\n",
    "    c.append(np.max(img))\n",
    "    img=np.where(img==np.max(img),0,img)"
   ]
  },
  {
   "cell_type": "code",
   "execution_count": 92,
   "metadata": {},
   "outputs": [
    {
     "data": {
      "text/plain": [
       "3158"
      ]
     },
     "execution_count": 92,
     "metadata": {},
     "output_type": "execute_result"
    }
   ],
   "source": [
    "len(c)"
   ]
  },
  {
   "cell_type": "code",
   "execution_count": null,
   "metadata": {},
   "outputs": [],
   "source": [
    "np.max(img)"
   ]
  },
  {
   "cell_type": "code",
   "execution_count": null,
   "metadata": {},
   "outputs": [],
   "source": [
    "np.max(img)"
   ]
  },
  {
   "cell_type": "code",
   "execution_count": 93,
   "metadata": {},
   "outputs": [],
   "source": [
    "from PIL import Image\n",
    "img=np.array(Image.open('/home/lidong/Documents/datasets/single_driver/data_depth_annotated/train/2011_09_28_drive_0094_sync/proj_depth/groundtruth/image_02/0000000005.png'),dtype=int)\n"
   ]
  },
  {
   "cell_type": "code",
   "execution_count": 94,
   "metadata": {},
   "outputs": [],
   "source": [
    "a=np.where(img>0)"
   ]
  },
  {
   "cell_type": "code",
   "execution_count": 96,
   "metadata": {},
   "outputs": [
    {
     "data": {
      "text/plain": [
       "122"
      ]
     },
     "execution_count": 96,
     "metadata": {},
     "output_type": "execute_result"
    }
   ],
   "source": [
    "a[0][0]"
   ]
  },
  {
   "cell_type": "code",
   "execution_count": 97,
   "metadata": {},
   "outputs": [
    {
     "ename": "AttributeError",
     "evalue": "'tuple' object has no attribute 'shape'",
     "output_type": "error",
     "traceback": [
      "\u001b[0;31m---------------------------------------------------------------------------\u001b[0m",
      "\u001b[0;31mAttributeError\u001b[0m                            Traceback (most recent call last)",
      "\u001b[0;32m<ipython-input-97-d74f1bcdd37c>\u001b[0m in \u001b[0;36m<module>\u001b[0;34m()\u001b[0m\n\u001b[0;32m----> 1\u001b[0;31m \u001b[0ma\u001b[0m\u001b[0;34m.\u001b[0m\u001b[0mshape\u001b[0m\u001b[0;34m\u001b[0m\u001b[0m\n\u001b[0m",
      "\u001b[0;31mAttributeError\u001b[0m: 'tuple' object has no attribute 'shape'"
     ]
    }
   ],
   "source": [
    "a.shape"
   ]
  },
  {
   "cell_type": "code",
   "execution_count": 99,
   "metadata": {},
   "outputs": [
    {
     "data": {
      "text/plain": [
       "array([1140, 1141, 1142, ..., 1130, 1134, 1135])"
      ]
     },
     "execution_count": 99,
     "metadata": {},
     "output_type": "execute_result"
    }
   ],
   "source": [
    "a[1]"
   ]
  },
  {
   "cell_type": "code",
   "execution_count": 100,
   "metadata": {},
   "outputs": [],
   "source": [
    "b=np.array(a)"
   ]
  },
  {
   "cell_type": "code",
   "execution_count": 101,
   "metadata": {},
   "outputs": [
    {
     "data": {
      "text/plain": [
       "(2, 49550)"
      ]
     },
     "execution_count": 101,
     "metadata": {},
     "output_type": "execute_result"
    }
   ],
   "source": [
    "b.shape"
   ]
  },
  {
   "cell_type": "code",
   "execution_count": 105,
   "metadata": {},
   "outputs": [
    {
     "data": {
      "text/plain": [
       "122"
      ]
     },
     "execution_count": 105,
     "metadata": {},
     "output_type": "execute_result"
    }
   ],
   "source": [
    "np.min(b[0,:])"
   ]
  },
  {
   "cell_type": "code",
   "execution_count": 110,
   "metadata": {},
   "outputs": [],
   "source": [
    "from PIL import Image\n",
    "img=np.array(Image.open('/home/lidong/Documents/datasets/single_driver/data_depth_annotated/train/2011_09_28_drive_0094_sync/proj_depth/groundtruth/image_02/0000000005.png'),dtype=int)\n"
   ]
  },
  {
   "cell_type": "code",
   "execution_count": 107,
   "metadata": {},
   "outputs": [
    {
     "data": {
      "text/plain": [
       "18594"
      ]
     },
     "execution_count": 107,
     "metadata": {},
     "output_type": "execute_result"
    }
   ],
   "source": [
    "np.max(img)"
   ]
  },
  {
   "cell_type": "code",
   "execution_count": 111,
   "metadata": {},
   "outputs": [],
   "source": [
    "img=img.astype(np.float)"
   ]
  },
  {
   "cell_type": "code",
   "execution_count": 112,
   "metadata": {},
   "outputs": [
    {
     "data": {
      "text/plain": [
       "18594.0"
      ]
     },
     "execution_count": 112,
     "metadata": {},
     "output_type": "execute_result"
    }
   ],
   "source": [
    "np.max(img)"
   ]
  },
  {
   "cell_type": "code",
   "execution_count": null,
   "metadata": {},
   "outputs": [],
   "source": [
    "a=cv2.imread('/home/lidong/Downloads/region.png')"
   ]
  },
  {
   "cell_type": "code",
   "execution_count": 114,
   "metadata": {},
   "outputs": [
    {
     "data": {
      "text/plain": [
       "0"
      ]
     },
     "execution_count": 114,
     "metadata": {},
     "output_type": "execute_result"
    }
   ],
   "source": [
    "np.min(a)\n"
   ]
  },
  {
   "cell_type": "code",
   "execution_count": 115,
   "metadata": {},
   "outputs": [
    {
     "data": {
      "text/plain": [
       "array([[[3, 3, 3],\n",
       "        [5, 5, 5],\n",
       "        [4, 4, 4],\n",
       "        ...,\n",
       "        [4, 4, 4],\n",
       "        [5, 5, 5],\n",
       "        [3, 3, 3]],\n",
       "\n",
       "       [[5, 5, 5],\n",
       "        [6, 6, 6],\n",
       "        [6, 6, 6],\n",
       "        ...,\n",
       "        [6, 6, 6],\n",
       "        [6, 6, 6],\n",
       "        [4, 4, 4]],\n",
       "\n",
       "       [[4, 4, 4],\n",
       "        [6, 6, 6],\n",
       "        [5, 5, 5],\n",
       "        ...,\n",
       "        [5, 5, 5],\n",
       "        [6, 6, 6],\n",
       "        [4, 4, 4]],\n",
       "\n",
       "       ...,\n",
       "\n",
       "       [[3, 3, 3],\n",
       "        [4, 4, 4],\n",
       "        [3, 3, 3],\n",
       "        ...,\n",
       "        [3, 3, 3],\n",
       "        [4, 4, 4],\n",
       "        [3, 3, 3]],\n",
       "\n",
       "       [[3, 3, 3],\n",
       "        [5, 5, 5],\n",
       "        [4, 4, 4],\n",
       "        ...,\n",
       "        [4, 4, 4],\n",
       "        [5, 5, 5],\n",
       "        [3, 3, 3]],\n",
       "\n",
       "       [[2, 2, 2],\n",
       "        [4, 4, 4],\n",
       "        [3, 3, 3],\n",
       "        ...,\n",
       "        [3, 3, 3],\n",
       "        [4, 4, 4],\n",
       "        [2, 2, 2]]], dtype=uint8)"
      ]
     },
     "execution_count": 115,
     "metadata": {},
     "output_type": "execute_result"
    }
   ],
   "source": [
    "a"
   ]
  },
  {
   "cell_type": "code",
   "execution_count": 132,
   "metadata": {},
   "outputs": [
    {
     "data": {
      "text/plain": [
       "True"
      ]
     },
     "execution_count": 132,
     "metadata": {},
     "output_type": "execute_result"
    }
   ],
   "source": [
    "a=cv2.imread('/home/lidong/Downloads/index.png')\n",
    "b=a\n",
    "c=[]\n",
    "while(np.max(b)>0):    \n",
    "    if np.array(np.where(b==np.max(b))).shape[1]<3000:\n",
    "        a=np.where(a==np.max(a),0,a)\n",
    "    b=np.where(b==np.max(b),0,b)\n",
    "a=a.astype(np.float)\n",
    "a=a/np.max(a)\n",
    "a=a*256\n",
    "a=a.astype(np.uint8)\n",
    "cv2.imwrite('/home/lidong/Downloads/refine_region.png',a)\n",
    "    "
   ]
  },
  {
   "cell_type": "code",
   "execution_count": 128,
   "metadata": {},
   "outputs": [
    {
     "data": {
      "text/plain": [
       "array([[[0, 0, 0],\n",
       "        [0, 0, 0],\n",
       "        [0, 0, 0],\n",
       "        ...,\n",
       "        [0, 0, 0],\n",
       "        [0, 0, 0],\n",
       "        [0, 0, 0]],\n",
       "\n",
       "       [[0, 0, 0],\n",
       "        [0, 0, 0],\n",
       "        [0, 0, 0],\n",
       "        ...,\n",
       "        [0, 0, 0],\n",
       "        [0, 0, 0],\n",
       "        [0, 0, 0]],\n",
       "\n",
       "       [[0, 0, 0],\n",
       "        [0, 0, 0],\n",
       "        [0, 0, 0],\n",
       "        ...,\n",
       "        [0, 0, 0],\n",
       "        [0, 0, 0],\n",
       "        [0, 0, 0]],\n",
       "\n",
       "       ...,\n",
       "\n",
       "       [[0, 0, 0],\n",
       "        [0, 0, 0],\n",
       "        [0, 0, 0],\n",
       "        ...,\n",
       "        [0, 0, 0],\n",
       "        [0, 0, 0],\n",
       "        [0, 0, 0]],\n",
       "\n",
       "       [[0, 0, 0],\n",
       "        [0, 0, 0],\n",
       "        [0, 0, 0],\n",
       "        ...,\n",
       "        [0, 0, 0],\n",
       "        [0, 0, 0],\n",
       "        [0, 0, 0]],\n",
       "\n",
       "       [[0, 0, 0],\n",
       "        [0, 0, 0],\n",
       "        [0, 0, 0],\n",
       "        ...,\n",
       "        [0, 0, 0],\n",
       "        [0, 0, 0],\n",
       "        [0, 0, 0]]], dtype=uint8)"
      ]
     },
     "execution_count": 128,
     "metadata": {},
     "output_type": "execute_result"
    }
   ],
   "source": [
    "b"
   ]
  },
  {
   "cell_type": "code",
   "execution_count": 118,
   "metadata": {},
   "outputs": [
    {
     "data": {
      "text/plain": [
       "[3,\n",
       " 3,\n",
       " 3,\n",
       " 3,\n",
       " 3,\n",
       " 3,\n",
       " 3,\n",
       " 3,\n",
       " 3,\n",
       " 3,\n",
       " 3,\n",
       " 3,\n",
       " 3,\n",
       " 3,\n",
       " 3,\n",
       " 3,\n",
       " 3,\n",
       " 3,\n",
       " 3,\n",
       " 3,\n",
       " 6,\n",
       " 3,\n",
       " 3,\n",
       " 3,\n",
       " 3,\n",
       " 3,\n",
       " 3,\n",
       " 3,\n",
       " 3,\n",
       " 3,\n",
       " 3,\n",
       " 3,\n",
       " 3,\n",
       " 6,\n",
       " 3,\n",
       " 3,\n",
       " 3,\n",
       " 3,\n",
       " 6,\n",
       " 3,\n",
       " 3,\n",
       " 3,\n",
       " 3,\n",
       " 3,\n",
       " 3,\n",
       " 3,\n",
       " 6,\n",
       " 3,\n",
       " 3,\n",
       " 6,\n",
       " 3,\n",
       " 3,\n",
       " 3,\n",
       " 9,\n",
       " 3,\n",
       " 3,\n",
       " 6,\n",
       " 3,\n",
       " 3,\n",
       " 3,\n",
       " 3,\n",
       " 12,\n",
       " 6,\n",
       " 6,\n",
       " 9,\n",
       " 6,\n",
       " 3,\n",
       " 6,\n",
       " 3,\n",
       " 6,\n",
       " 15,\n",
       " 12,\n",
       " 3,\n",
       " 6,\n",
       " 6,\n",
       " 9,\n",
       " 3,\n",
       " 3,\n",
       " 6,\n",
       " 9,\n",
       " 9,\n",
       " 9,\n",
       " 3,\n",
       " 9,\n",
       " 9,\n",
       " 30,\n",
       " 15,\n",
       " 9,\n",
       " 24,\n",
       " 15,\n",
       " 24,\n",
       " 21,\n",
       " 5190,\n",
       " 11364,\n",
       " 24036,\n",
       " 61764,\n",
       " 232254,\n",
       " 349971,\n",
       " 62829,\n",
       " 62445,\n",
       " 49581,\n",
       " 58728]"
      ]
     },
     "execution_count": 118,
     "metadata": {},
     "output_type": "execute_result"
    }
   ],
   "source": [
    "c"
   ]
  },
  {
   "cell_type": "code",
   "execution_count": 133,
   "metadata": {},
   "outputs": [],
   "source": [
    "a=cv2.imread('/home/lidong/Downloads/index.png',0)\n",
    "\n",
    "b=[]\n",
    "c=[]\n",
    "while(np.max(a)>0):\n",
    "    b.append(np.max(a))\n",
    "    c.append(np.array(np.where(a==np.max(a))).shape[1])\n",
    "    a=np.where(a==np.max(a),0,a)"
   ]
  },
  {
   "cell_type": "code",
   "execution_count": 131,
   "metadata": {},
   "outputs": [
    {
     "data": {
      "text/plain": [
       "(480, 640)"
      ]
     },
     "execution_count": 131,
     "metadata": {},
     "output_type": "execute_result"
    }
   ],
   "source": [
    "a.shape\n"
   ]
  },
  {
   "cell_type": "code",
   "execution_count": 134,
   "metadata": {},
   "outputs": [
    {
     "data": {
      "text/plain": [
       "[630,\n",
       " 630,\n",
       " 1,\n",
       " 631,\n",
       " 1,\n",
       " 630,\n",
       " 296100,\n",
       " 1,\n",
       " 470,\n",
       " 1,\n",
       " 1,\n",
       " 630,\n",
       " 1,\n",
       " 1,\n",
       " 1,\n",
       " 1,\n",
       " 471,\n",
       " 1,\n",
       " 1,\n",
       " 1,\n",
       " 1,\n",
       " 1,\n",
       " 1,\n",
       " 1,\n",
       " 1,\n",
       " 1,\n",
       " 1,\n",
       " 1,\n",
       " 1]"
      ]
     },
     "execution_count": 134,
     "metadata": {},
     "output_type": "execute_result"
    }
   ],
   "source": [
    "b\n",
    "c"
   ]
  },
  {
   "cell_type": "code",
   "execution_count": 135,
   "metadata": {},
   "outputs": [
    {
     "data": {
      "text/plain": [
       "[630,\n",
       " 630,\n",
       " 1,\n",
       " 631,\n",
       " 1,\n",
       " 630,\n",
       " 296100,\n",
       " 1,\n",
       " 470,\n",
       " 1,\n",
       " 1,\n",
       " 630,\n",
       " 1,\n",
       " 1,\n",
       " 1,\n",
       " 1,\n",
       " 471,\n",
       " 1,\n",
       " 1,\n",
       " 1,\n",
       " 1,\n",
       " 1,\n",
       " 1,\n",
       " 1,\n",
       " 1,\n",
       " 1,\n",
       " 1,\n",
       " 1,\n",
       " 1]"
      ]
     },
     "execution_count": 135,
     "metadata": {},
     "output_type": "execute_result"
    }
   ],
   "source": [
    "c"
   ]
  },
  {
   "cell_type": "code",
   "execution_count": 136,
   "metadata": {},
   "outputs": [
    {
     "data": {
      "text/plain": [
       "[255,\n",
       " 253,\n",
       " 251,\n",
       " 249,\n",
       " 243,\n",
       " 239,\n",
       " 238,\n",
       " 233,\n",
       " 228,\n",
       " 193,\n",
       " 181,\n",
       " 162,\n",
       " 159,\n",
       " 156,\n",
       " 153,\n",
       " 137,\n",
       " 132,\n",
       " 128,\n",
       " 118,\n",
       " 110,\n",
       " 77,\n",
       " 62,\n",
       " 51,\n",
       " 48,\n",
       " 42,\n",
       " 38,\n",
       " 36,\n",
       " 23,\n",
       " 4]"
      ]
     },
     "execution_count": 136,
     "metadata": {},
     "output_type": "execute_result"
    }
   ],
   "source": [
    "b"
   ]
  },
  {
   "cell_type": "code",
   "execution_count": 137,
   "metadata": {},
   "outputs": [
    {
     "data": {
      "text/plain": [
       "[630,\n",
       " 630,\n",
       " 1,\n",
       " 631,\n",
       " 1,\n",
       " 630,\n",
       " 296100,\n",
       " 1,\n",
       " 470,\n",
       " 1,\n",
       " 1,\n",
       " 630,\n",
       " 1,\n",
       " 1,\n",
       " 1,\n",
       " 1,\n",
       " 471,\n",
       " 1,\n",
       " 1,\n",
       " 1,\n",
       " 1,\n",
       " 1,\n",
       " 1,\n",
       " 1,\n",
       " 1,\n",
       " 1,\n",
       " 1,\n",
       " 1,\n",
       " 1]"
      ]
     },
     "execution_count": 137,
     "metadata": {},
     "output_type": "execute_result"
    }
   ],
   "source": [
    "c"
   ]
  },
  {
   "cell_type": "code",
   "execution_count": null,
   "metadata": {},
   "outputs": [],
   "source": []
  }
 ],
 "metadata": {
  "kernelspec": {
   "display_name": "Python 3",
   "language": "python",
   "name": "python3"
  },
  "language_info": {
   "codemirror_mode": {
    "name": "ipython",
    "version": 3
   },
   "file_extension": ".py",
   "mimetype": "text/x-python",
   "name": "python",
   "nbconvert_exporter": "python",
   "pygments_lexer": "ipython3",
   "version": "3.6.4"
  }
 },
 "nbformat": 4,
 "nbformat_minor": 2
}
